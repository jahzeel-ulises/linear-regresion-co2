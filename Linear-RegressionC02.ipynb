{
  "nbformat": 4,
  "nbformat_minor": 0,
  "metadata": {
    "colab": {
      "provenance": []
    },
    "kernelspec": {
      "name": "python3",
      "display_name": "Python 3"
    },
    "language_info": {
      "name": "python"
    }
  },
  "cells": [
    {
      "cell_type": "markdown",
      "source": [
        "#Mendez Diaz Jahzeel Ulises\n",
        "#Práctica 5\n",
        "#Prediccion de CO2(tCO2) con Potencia Reactiva Retrasada y Uso electricidad kWh.\n",
        "Dataset: Steel Industry Energy Consumption\n",
        "https://archive.ics.uci.edu/dataset/851/steel+industry+energy+consumption"
      ],
      "metadata": {
        "id": "cTf6-AbqzuUs"
      }
    },
    {
      "cell_type": "markdown",
      "source": [
        "La información recopilada en el dataser proviene de DAEWOO Steel Co. Ltd en Gwangyang, Corea del Sur. Produce varios tipos de bobinas, placas de acero y placas de hierro.\n",
        "\n",
        "El dataset contiene los siguientes campos:\n",
        "  * date\n",
        "  * Usage_kWh\n",
        "  * Lagging_Current_Reactive.Power_kVarh\n",
        "  * Leading_Current_Reactive_Power_kVarh\n",
        "  * CO2(tCO2)\n",
        "  * Lagging_Current_Power_Factor\n",
        "  * Leading_Current_Power_Factor\n",
        "  * NSM\tFeature\n",
        "  * WeekStatus\n",
        "  * Day_of_week\n",
        "\n",
        "Nosotros nos concentraremos en utilizar a  Usage_kWh y Lagging_Current_Reactive.Power_kVarh para intentar predecir a CO2(tCO2) con un modelo de regresión lineal multivariada."
      ],
      "metadata": {
        "id": "XC5EWkNs5S_W"
      }
    },
    {
      "cell_type": "code",
      "execution_count": null,
      "metadata": {
        "id": "F1TKhsy_zspU"
      },
      "outputs": [],
      "source": [
        "#Primero importaremos las librerias que ocuparemos a lo largo del notebook\n",
        "import numpy as np\n",
        "import pandas as pd\n",
        "import matplotlib.pyplot as plt\n",
        "from sklearn.impute import KNNImputer"
      ]
    },
    {
      "cell_type": "code",
      "source": [
        "#Cargamos el dataset con ayuda de Pandas\n",
        "data = pd.read_csv('Steel_industry_data.csv')"
      ],
      "metadata": {
        "id": "7CUeVUj668Xl"
      },
      "execution_count": null,
      "outputs": []
    },
    {
      "cell_type": "markdown",
      "source": [
        "En esta parte realizaremos un analisis exploratorio del dataset.\n",
        "\n",
        "\n",
        "\n"
      ],
      "metadata": {
        "id": "hXSkB3Aa7CGj"
      }
    },
    {
      "cell_type": "markdown",
      "source": [
        "Revisamos los tipos de datos que vienen en el dataset."
      ],
      "metadata": {
        "id": "jyMJfxuM9jaF"
      }
    },
    {
      "cell_type": "code",
      "source": [
        "data.dtypes"
      ],
      "metadata": {
        "colab": {
          "base_uri": "https://localhost:8080/"
        },
        "id": "0-sQIord9nsf",
        "outputId": "2aa57243-a712-4841-81a3-b43c78a7dc8a"
      },
      "execution_count": null,
      "outputs": [
        {
          "output_type": "execute_result",
          "data": {
            "text/plain": [
              "date                                     object\n",
              "Usage_kWh                               float64\n",
              "Lagging_Current_Reactive.Power_kVarh    float64\n",
              "Leading_Current_Reactive_Power_kVarh    float64\n",
              "CO2(tCO2)                               float64\n",
              "Lagging_Current_Power_Factor            float64\n",
              "Leading_Current_Power_Factor            float64\n",
              "NSM                                       int64\n",
              "WeekStatus                               object\n",
              "Day_of_week                              object\n",
              "Load_Type                                object\n",
              "dtype: object"
            ]
          },
          "metadata": {},
          "execution_count": 5
        }
      ]
    },
    {
      "cell_type": "code",
      "source": [
        "data.sample(10)"
      ],
      "metadata": {
        "colab": {
          "base_uri": "https://localhost:8080/",
          "height": 557
        },
        "id": "nzTRbc-W7Ji3",
        "outputId": "ccac9007-2efd-4301-d52a-f9e045204144"
      },
      "execution_count": null,
      "outputs": [
        {
          "output_type": "execute_result",
          "data": {
            "text/plain": [
              "                   date  Usage_kWh  Lagging_Current_Reactive.Power_kVarh  \\\n",
              "8791   02/04/2018 14:00      57.35                                 28.91   \n",
              "28724  27/10/2018 05:15       3.64                                  6.01   \n",
              "18948  17/07/2018 09:15      58.64                                 44.46   \n",
              "27508  14/10/2018 13:15       3.06                                  0.00   \n",
              "16527  22/06/2018 04:00       3.42                                  5.40   \n",
              "15132  07/06/2018 15:15     106.27                                 49.86   \n",
              "15427  10/06/2018 17:00       3.20                                  0.00   \n",
              "738    08/01/2018 16:45     136.98                                 53.93   \n",
              "23369  01/09/2018 10:30      38.88                                 11.59   \n",
              "33643  17/12/2018 11:00      53.78                                 18.07   \n",
              "\n",
              "       Leading_Current_Reactive_Power_kVarh  CO2(tCO2)  \\\n",
              "8791                                   0.00       0.03   \n",
              "28724                                  0.00       0.00   \n",
              "18948                                  0.00       0.03   \n",
              "27508                                 10.73       0.00   \n",
              "16527                                  0.00       0.00   \n",
              "15132                                  0.00       0.05   \n",
              "15427                                 17.06       0.00   \n",
              "738                                    0.00       0.06   \n",
              "23369                                  0.00       0.02   \n",
              "33643                                  0.00       0.02   \n",
              "\n",
              "       Lagging_Current_Power_Factor  Leading_Current_Power_Factor    NSM  \\\n",
              "8791                          89.30                        100.00  50400   \n",
              "28724                         51.80                        100.00  18900   \n",
              "18948                         79.69                        100.00  33300   \n",
              "27508                        100.00                         27.42  47700   \n",
              "16527                         53.51                        100.00  14400   \n",
              "15132                         90.53                        100.00  54900   \n",
              "15427                        100.00                         18.44  61200   \n",
              "738                           93.05                        100.00  60300   \n",
              "23369                         95.83                        100.00  37800   \n",
              "33643                         94.79                        100.00  39600   \n",
              "\n",
              "      WeekStatus Day_of_week     Load_Type  \n",
              "8791     Weekday      Monday  Maximum_Load  \n",
              "28724    Weekend    Saturday    Light_Load  \n",
              "18948    Weekday     Tuesday   Medium_Load  \n",
              "27508    Weekend      Sunday    Light_Load  \n",
              "16527    Weekday      Friday    Light_Load  \n",
              "15132    Weekday    Thursday  Maximum_Load  \n",
              "15427    Weekend      Sunday    Light_Load  \n",
              "738      Weekday      Monday   Medium_Load  \n",
              "23369    Weekend    Saturday  Maximum_Load  \n",
              "33643    Weekday      Monday  Maximum_Load  "
            ],
            "text/html": [
              "\n",
              "  <div id=\"df-909e778d-a7ba-41b7-b6c2-335085943666\" class=\"colab-df-container\">\n",
              "    <div>\n",
              "<style scoped>\n",
              "    .dataframe tbody tr th:only-of-type {\n",
              "        vertical-align: middle;\n",
              "    }\n",
              "\n",
              "    .dataframe tbody tr th {\n",
              "        vertical-align: top;\n",
              "    }\n",
              "\n",
              "    .dataframe thead th {\n",
              "        text-align: right;\n",
              "    }\n",
              "</style>\n",
              "<table border=\"1\" class=\"dataframe\">\n",
              "  <thead>\n",
              "    <tr style=\"text-align: right;\">\n",
              "      <th></th>\n",
              "      <th>date</th>\n",
              "      <th>Usage_kWh</th>\n",
              "      <th>Lagging_Current_Reactive.Power_kVarh</th>\n",
              "      <th>Leading_Current_Reactive_Power_kVarh</th>\n",
              "      <th>CO2(tCO2)</th>\n",
              "      <th>Lagging_Current_Power_Factor</th>\n",
              "      <th>Leading_Current_Power_Factor</th>\n",
              "      <th>NSM</th>\n",
              "      <th>WeekStatus</th>\n",
              "      <th>Day_of_week</th>\n",
              "      <th>Load_Type</th>\n",
              "    </tr>\n",
              "  </thead>\n",
              "  <tbody>\n",
              "    <tr>\n",
              "      <th>8791</th>\n",
              "      <td>02/04/2018 14:00</td>\n",
              "      <td>57.35</td>\n",
              "      <td>28.91</td>\n",
              "      <td>0.00</td>\n",
              "      <td>0.03</td>\n",
              "      <td>89.30</td>\n",
              "      <td>100.00</td>\n",
              "      <td>50400</td>\n",
              "      <td>Weekday</td>\n",
              "      <td>Monday</td>\n",
              "      <td>Maximum_Load</td>\n",
              "    </tr>\n",
              "    <tr>\n",
              "      <th>28724</th>\n",
              "      <td>27/10/2018 05:15</td>\n",
              "      <td>3.64</td>\n",
              "      <td>6.01</td>\n",
              "      <td>0.00</td>\n",
              "      <td>0.00</td>\n",
              "      <td>51.80</td>\n",
              "      <td>100.00</td>\n",
              "      <td>18900</td>\n",
              "      <td>Weekend</td>\n",
              "      <td>Saturday</td>\n",
              "      <td>Light_Load</td>\n",
              "    </tr>\n",
              "    <tr>\n",
              "      <th>18948</th>\n",
              "      <td>17/07/2018 09:15</td>\n",
              "      <td>58.64</td>\n",
              "      <td>44.46</td>\n",
              "      <td>0.00</td>\n",
              "      <td>0.03</td>\n",
              "      <td>79.69</td>\n",
              "      <td>100.00</td>\n",
              "      <td>33300</td>\n",
              "      <td>Weekday</td>\n",
              "      <td>Tuesday</td>\n",
              "      <td>Medium_Load</td>\n",
              "    </tr>\n",
              "    <tr>\n",
              "      <th>27508</th>\n",
              "      <td>14/10/2018 13:15</td>\n",
              "      <td>3.06</td>\n",
              "      <td>0.00</td>\n",
              "      <td>10.73</td>\n",
              "      <td>0.00</td>\n",
              "      <td>100.00</td>\n",
              "      <td>27.42</td>\n",
              "      <td>47700</td>\n",
              "      <td>Weekend</td>\n",
              "      <td>Sunday</td>\n",
              "      <td>Light_Load</td>\n",
              "    </tr>\n",
              "    <tr>\n",
              "      <th>16527</th>\n",
              "      <td>22/06/2018 04:00</td>\n",
              "      <td>3.42</td>\n",
              "      <td>5.40</td>\n",
              "      <td>0.00</td>\n",
              "      <td>0.00</td>\n",
              "      <td>53.51</td>\n",
              "      <td>100.00</td>\n",
              "      <td>14400</td>\n",
              "      <td>Weekday</td>\n",
              "      <td>Friday</td>\n",
              "      <td>Light_Load</td>\n",
              "    </tr>\n",
              "    <tr>\n",
              "      <th>15132</th>\n",
              "      <td>07/06/2018 15:15</td>\n",
              "      <td>106.27</td>\n",
              "      <td>49.86</td>\n",
              "      <td>0.00</td>\n",
              "      <td>0.05</td>\n",
              "      <td>90.53</td>\n",
              "      <td>100.00</td>\n",
              "      <td>54900</td>\n",
              "      <td>Weekday</td>\n",
              "      <td>Thursday</td>\n",
              "      <td>Maximum_Load</td>\n",
              "    </tr>\n",
              "    <tr>\n",
              "      <th>15427</th>\n",
              "      <td>10/06/2018 17:00</td>\n",
              "      <td>3.20</td>\n",
              "      <td>0.00</td>\n",
              "      <td>17.06</td>\n",
              "      <td>0.00</td>\n",
              "      <td>100.00</td>\n",
              "      <td>18.44</td>\n",
              "      <td>61200</td>\n",
              "      <td>Weekend</td>\n",
              "      <td>Sunday</td>\n",
              "      <td>Light_Load</td>\n",
              "    </tr>\n",
              "    <tr>\n",
              "      <th>738</th>\n",
              "      <td>08/01/2018 16:45</td>\n",
              "      <td>136.98</td>\n",
              "      <td>53.93</td>\n",
              "      <td>0.00</td>\n",
              "      <td>0.06</td>\n",
              "      <td>93.05</td>\n",
              "      <td>100.00</td>\n",
              "      <td>60300</td>\n",
              "      <td>Weekday</td>\n",
              "      <td>Monday</td>\n",
              "      <td>Medium_Load</td>\n",
              "    </tr>\n",
              "    <tr>\n",
              "      <th>23369</th>\n",
              "      <td>01/09/2018 10:30</td>\n",
              "      <td>38.88</td>\n",
              "      <td>11.59</td>\n",
              "      <td>0.00</td>\n",
              "      <td>0.02</td>\n",
              "      <td>95.83</td>\n",
              "      <td>100.00</td>\n",
              "      <td>37800</td>\n",
              "      <td>Weekend</td>\n",
              "      <td>Saturday</td>\n",
              "      <td>Maximum_Load</td>\n",
              "    </tr>\n",
              "    <tr>\n",
              "      <th>33643</th>\n",
              "      <td>17/12/2018 11:00</td>\n",
              "      <td>53.78</td>\n",
              "      <td>18.07</td>\n",
              "      <td>0.00</td>\n",
              "      <td>0.02</td>\n",
              "      <td>94.79</td>\n",
              "      <td>100.00</td>\n",
              "      <td>39600</td>\n",
              "      <td>Weekday</td>\n",
              "      <td>Monday</td>\n",
              "      <td>Maximum_Load</td>\n",
              "    </tr>\n",
              "  </tbody>\n",
              "</table>\n",
              "</div>\n",
              "    <div class=\"colab-df-buttons\">\n",
              "\n",
              "  <div class=\"colab-df-container\">\n",
              "    <button class=\"colab-df-convert\" onclick=\"convertToInteractive('df-909e778d-a7ba-41b7-b6c2-335085943666')\"\n",
              "            title=\"Convert this dataframe to an interactive table.\"\n",
              "            style=\"display:none;\">\n",
              "\n",
              "  <svg xmlns=\"http://www.w3.org/2000/svg\" height=\"24px\" viewBox=\"0 -960 960 960\">\n",
              "    <path d=\"M120-120v-720h720v720H120Zm60-500h600v-160H180v160Zm220 220h160v-160H400v160Zm0 220h160v-160H400v160ZM180-400h160v-160H180v160Zm440 0h160v-160H620v160ZM180-180h160v-160H180v160Zm440 0h160v-160H620v160Z\"/>\n",
              "  </svg>\n",
              "    </button>\n",
              "\n",
              "  <style>\n",
              "    .colab-df-container {\n",
              "      display:flex;\n",
              "      gap: 12px;\n",
              "    }\n",
              "\n",
              "    .colab-df-convert {\n",
              "      background-color: #E8F0FE;\n",
              "      border: none;\n",
              "      border-radius: 50%;\n",
              "      cursor: pointer;\n",
              "      display: none;\n",
              "      fill: #1967D2;\n",
              "      height: 32px;\n",
              "      padding: 0 0 0 0;\n",
              "      width: 32px;\n",
              "    }\n",
              "\n",
              "    .colab-df-convert:hover {\n",
              "      background-color: #E2EBFA;\n",
              "      box-shadow: 0px 1px 2px rgba(60, 64, 67, 0.3), 0px 1px 3px 1px rgba(60, 64, 67, 0.15);\n",
              "      fill: #174EA6;\n",
              "    }\n",
              "\n",
              "    .colab-df-buttons div {\n",
              "      margin-bottom: 4px;\n",
              "    }\n",
              "\n",
              "    [theme=dark] .colab-df-convert {\n",
              "      background-color: #3B4455;\n",
              "      fill: #D2E3FC;\n",
              "    }\n",
              "\n",
              "    [theme=dark] .colab-df-convert:hover {\n",
              "      background-color: #434B5C;\n",
              "      box-shadow: 0px 1px 3px 1px rgba(0, 0, 0, 0.15);\n",
              "      filter: drop-shadow(0px 1px 2px rgba(0, 0, 0, 0.3));\n",
              "      fill: #FFFFFF;\n",
              "    }\n",
              "  </style>\n",
              "\n",
              "    <script>\n",
              "      const buttonEl =\n",
              "        document.querySelector('#df-909e778d-a7ba-41b7-b6c2-335085943666 button.colab-df-convert');\n",
              "      buttonEl.style.display =\n",
              "        google.colab.kernel.accessAllowed ? 'block' : 'none';\n",
              "\n",
              "      async function convertToInteractive(key) {\n",
              "        const element = document.querySelector('#df-909e778d-a7ba-41b7-b6c2-335085943666');\n",
              "        const dataTable =\n",
              "          await google.colab.kernel.invokeFunction('convertToInteractive',\n",
              "                                                    [key], {});\n",
              "        if (!dataTable) return;\n",
              "\n",
              "        const docLinkHtml = 'Like what you see? Visit the ' +\n",
              "          '<a target=\"_blank\" href=https://colab.research.google.com/notebooks/data_table.ipynb>data table notebook</a>'\n",
              "          + ' to learn more about interactive tables.';\n",
              "        element.innerHTML = '';\n",
              "        dataTable['output_type'] = 'display_data';\n",
              "        await google.colab.output.renderOutput(dataTable, element);\n",
              "        const docLink = document.createElement('div');\n",
              "        docLink.innerHTML = docLinkHtml;\n",
              "        element.appendChild(docLink);\n",
              "      }\n",
              "    </script>\n",
              "  </div>\n",
              "\n",
              "\n",
              "<div id=\"df-0df2efe2-91a6-4225-9cc8-d7da3e78555e\">\n",
              "  <button class=\"colab-df-quickchart\" onclick=\"quickchart('df-0df2efe2-91a6-4225-9cc8-d7da3e78555e')\"\n",
              "            title=\"Suggest charts\"\n",
              "            style=\"display:none;\">\n",
              "\n",
              "<svg xmlns=\"http://www.w3.org/2000/svg\" height=\"24px\"viewBox=\"0 0 24 24\"\n",
              "     width=\"24px\">\n",
              "    <g>\n",
              "        <path d=\"M19 3H5c-1.1 0-2 .9-2 2v14c0 1.1.9 2 2 2h14c1.1 0 2-.9 2-2V5c0-1.1-.9-2-2-2zM9 17H7v-7h2v7zm4 0h-2V7h2v10zm4 0h-2v-4h2v4z\"/>\n",
              "    </g>\n",
              "</svg>\n",
              "  </button>\n",
              "\n",
              "<style>\n",
              "  .colab-df-quickchart {\n",
              "      --bg-color: #E8F0FE;\n",
              "      --fill-color: #1967D2;\n",
              "      --hover-bg-color: #E2EBFA;\n",
              "      --hover-fill-color: #174EA6;\n",
              "      --disabled-fill-color: #AAA;\n",
              "      --disabled-bg-color: #DDD;\n",
              "  }\n",
              "\n",
              "  [theme=dark] .colab-df-quickchart {\n",
              "      --bg-color: #3B4455;\n",
              "      --fill-color: #D2E3FC;\n",
              "      --hover-bg-color: #434B5C;\n",
              "      --hover-fill-color: #FFFFFF;\n",
              "      --disabled-bg-color: #3B4455;\n",
              "      --disabled-fill-color: #666;\n",
              "  }\n",
              "\n",
              "  .colab-df-quickchart {\n",
              "    background-color: var(--bg-color);\n",
              "    border: none;\n",
              "    border-radius: 50%;\n",
              "    cursor: pointer;\n",
              "    display: none;\n",
              "    fill: var(--fill-color);\n",
              "    height: 32px;\n",
              "    padding: 0;\n",
              "    width: 32px;\n",
              "  }\n",
              "\n",
              "  .colab-df-quickchart:hover {\n",
              "    background-color: var(--hover-bg-color);\n",
              "    box-shadow: 0 1px 2px rgba(60, 64, 67, 0.3), 0 1px 3px 1px rgba(60, 64, 67, 0.15);\n",
              "    fill: var(--button-hover-fill-color);\n",
              "  }\n",
              "\n",
              "  .colab-df-quickchart-complete:disabled,\n",
              "  .colab-df-quickchart-complete:disabled:hover {\n",
              "    background-color: var(--disabled-bg-color);\n",
              "    fill: var(--disabled-fill-color);\n",
              "    box-shadow: none;\n",
              "  }\n",
              "\n",
              "  .colab-df-spinner {\n",
              "    border: 2px solid var(--fill-color);\n",
              "    border-color: transparent;\n",
              "    border-bottom-color: var(--fill-color);\n",
              "    animation:\n",
              "      spin 1s steps(1) infinite;\n",
              "  }\n",
              "\n",
              "  @keyframes spin {\n",
              "    0% {\n",
              "      border-color: transparent;\n",
              "      border-bottom-color: var(--fill-color);\n",
              "      border-left-color: var(--fill-color);\n",
              "    }\n",
              "    20% {\n",
              "      border-color: transparent;\n",
              "      border-left-color: var(--fill-color);\n",
              "      border-top-color: var(--fill-color);\n",
              "    }\n",
              "    30% {\n",
              "      border-color: transparent;\n",
              "      border-left-color: var(--fill-color);\n",
              "      border-top-color: var(--fill-color);\n",
              "      border-right-color: var(--fill-color);\n",
              "    }\n",
              "    40% {\n",
              "      border-color: transparent;\n",
              "      border-right-color: var(--fill-color);\n",
              "      border-top-color: var(--fill-color);\n",
              "    }\n",
              "    60% {\n",
              "      border-color: transparent;\n",
              "      border-right-color: var(--fill-color);\n",
              "    }\n",
              "    80% {\n",
              "      border-color: transparent;\n",
              "      border-right-color: var(--fill-color);\n",
              "      border-bottom-color: var(--fill-color);\n",
              "    }\n",
              "    90% {\n",
              "      border-color: transparent;\n",
              "      border-bottom-color: var(--fill-color);\n",
              "    }\n",
              "  }\n",
              "</style>\n",
              "\n",
              "  <script>\n",
              "    async function quickchart(key) {\n",
              "      const quickchartButtonEl =\n",
              "        document.querySelector('#' + key + ' button');\n",
              "      quickchartButtonEl.disabled = true;  // To prevent multiple clicks.\n",
              "      quickchartButtonEl.classList.add('colab-df-spinner');\n",
              "      try {\n",
              "        const charts = await google.colab.kernel.invokeFunction(\n",
              "            'suggestCharts', [key], {});\n",
              "      } catch (error) {\n",
              "        console.error('Error during call to suggestCharts:', error);\n",
              "      }\n",
              "      quickchartButtonEl.classList.remove('colab-df-spinner');\n",
              "      quickchartButtonEl.classList.add('colab-df-quickchart-complete');\n",
              "    }\n",
              "    (() => {\n",
              "      let quickchartButtonEl =\n",
              "        document.querySelector('#df-0df2efe2-91a6-4225-9cc8-d7da3e78555e button');\n",
              "      quickchartButtonEl.style.display =\n",
              "        google.colab.kernel.accessAllowed ? 'block' : 'none';\n",
              "    })();\n",
              "  </script>\n",
              "</div>\n",
              "\n",
              "    </div>\n",
              "  </div>\n"
            ],
            "application/vnd.google.colaboratory.intrinsic+json": {
              "type": "dataframe",
              "repr_error": "'str' object has no attribute 'empty'"
            }
          },
          "metadata": {},
          "execution_count": 6
        }
      ]
    },
    {
      "cell_type": "markdown",
      "source": [
        "Observamos valores 0 en algunos campos, posiblemente valores faltantes."
      ],
      "metadata": {
        "id": "5SsEBons7Lym"
      }
    },
    {
      "cell_type": "markdown",
      "source": [
        "Observamos las métricas estadisticas del dataset."
      ],
      "metadata": {
        "id": "_QFZ1G3W7vjw"
      }
    },
    {
      "cell_type": "code",
      "source": [
        "data.describe()"
      ],
      "metadata": {
        "colab": {
          "base_uri": "https://localhost:8080/",
          "height": 300
        },
        "id": "9V3Wy6rn7ynV",
        "outputId": "725c60c9-504a-4cc3-f713-d12b394bc70d"
      },
      "execution_count": null,
      "outputs": [
        {
          "output_type": "execute_result",
          "data": {
            "text/plain": [
              "          Usage_kWh  Lagging_Current_Reactive.Power_kVarh  \\\n",
              "count  35040.000000                          35040.000000   \n",
              "mean      27.386892                             13.035384   \n",
              "std       33.444380                             16.306000   \n",
              "min        0.000000                              0.000000   \n",
              "25%        3.200000                              2.300000   \n",
              "50%        4.570000                              5.000000   \n",
              "75%       51.237500                             22.640000   \n",
              "max      157.180000                             96.910000   \n",
              "\n",
              "       Leading_Current_Reactive_Power_kVarh     CO2(tCO2)  \\\n",
              "count                          35040.000000  35040.000000   \n",
              "mean                               3.870949      0.011524   \n",
              "std                                7.424463      0.016151   \n",
              "min                                0.000000      0.000000   \n",
              "25%                                0.000000      0.000000   \n",
              "50%                                0.000000      0.000000   \n",
              "75%                                2.090000      0.020000   \n",
              "max                               27.760000      0.070000   \n",
              "\n",
              "       Lagging_Current_Power_Factor  Leading_Current_Power_Factor  \\\n",
              "count                  35040.000000                  35040.000000   \n",
              "mean                      80.578056                     84.367870   \n",
              "std                       18.921322                     30.456535   \n",
              "min                        0.000000                      0.000000   \n",
              "25%                       63.320000                     99.700000   \n",
              "50%                       87.960000                    100.000000   \n",
              "75%                       99.022500                    100.000000   \n",
              "max                      100.000000                    100.000000   \n",
              "\n",
              "                NSM  \n",
              "count  35040.000000  \n",
              "mean   42750.000000  \n",
              "std    24940.534317  \n",
              "min        0.000000  \n",
              "25%    21375.000000  \n",
              "50%    42750.000000  \n",
              "75%    64125.000000  \n",
              "max    85500.000000  "
            ],
            "text/html": [
              "\n",
              "  <div id=\"df-33c30b32-cb7a-4bf0-bad8-a62096aebe55\" class=\"colab-df-container\">\n",
              "    <div>\n",
              "<style scoped>\n",
              "    .dataframe tbody tr th:only-of-type {\n",
              "        vertical-align: middle;\n",
              "    }\n",
              "\n",
              "    .dataframe tbody tr th {\n",
              "        vertical-align: top;\n",
              "    }\n",
              "\n",
              "    .dataframe thead th {\n",
              "        text-align: right;\n",
              "    }\n",
              "</style>\n",
              "<table border=\"1\" class=\"dataframe\">\n",
              "  <thead>\n",
              "    <tr style=\"text-align: right;\">\n",
              "      <th></th>\n",
              "      <th>Usage_kWh</th>\n",
              "      <th>Lagging_Current_Reactive.Power_kVarh</th>\n",
              "      <th>Leading_Current_Reactive_Power_kVarh</th>\n",
              "      <th>CO2(tCO2)</th>\n",
              "      <th>Lagging_Current_Power_Factor</th>\n",
              "      <th>Leading_Current_Power_Factor</th>\n",
              "      <th>NSM</th>\n",
              "    </tr>\n",
              "  </thead>\n",
              "  <tbody>\n",
              "    <tr>\n",
              "      <th>count</th>\n",
              "      <td>35040.000000</td>\n",
              "      <td>35040.000000</td>\n",
              "      <td>35040.000000</td>\n",
              "      <td>35040.000000</td>\n",
              "      <td>35040.000000</td>\n",
              "      <td>35040.000000</td>\n",
              "      <td>35040.000000</td>\n",
              "    </tr>\n",
              "    <tr>\n",
              "      <th>mean</th>\n",
              "      <td>27.386892</td>\n",
              "      <td>13.035384</td>\n",
              "      <td>3.870949</td>\n",
              "      <td>0.011524</td>\n",
              "      <td>80.578056</td>\n",
              "      <td>84.367870</td>\n",
              "      <td>42750.000000</td>\n",
              "    </tr>\n",
              "    <tr>\n",
              "      <th>std</th>\n",
              "      <td>33.444380</td>\n",
              "      <td>16.306000</td>\n",
              "      <td>7.424463</td>\n",
              "      <td>0.016151</td>\n",
              "      <td>18.921322</td>\n",
              "      <td>30.456535</td>\n",
              "      <td>24940.534317</td>\n",
              "    </tr>\n",
              "    <tr>\n",
              "      <th>min</th>\n",
              "      <td>0.000000</td>\n",
              "      <td>0.000000</td>\n",
              "      <td>0.000000</td>\n",
              "      <td>0.000000</td>\n",
              "      <td>0.000000</td>\n",
              "      <td>0.000000</td>\n",
              "      <td>0.000000</td>\n",
              "    </tr>\n",
              "    <tr>\n",
              "      <th>25%</th>\n",
              "      <td>3.200000</td>\n",
              "      <td>2.300000</td>\n",
              "      <td>0.000000</td>\n",
              "      <td>0.000000</td>\n",
              "      <td>63.320000</td>\n",
              "      <td>99.700000</td>\n",
              "      <td>21375.000000</td>\n",
              "    </tr>\n",
              "    <tr>\n",
              "      <th>50%</th>\n",
              "      <td>4.570000</td>\n",
              "      <td>5.000000</td>\n",
              "      <td>0.000000</td>\n",
              "      <td>0.000000</td>\n",
              "      <td>87.960000</td>\n",
              "      <td>100.000000</td>\n",
              "      <td>42750.000000</td>\n",
              "    </tr>\n",
              "    <tr>\n",
              "      <th>75%</th>\n",
              "      <td>51.237500</td>\n",
              "      <td>22.640000</td>\n",
              "      <td>2.090000</td>\n",
              "      <td>0.020000</td>\n",
              "      <td>99.022500</td>\n",
              "      <td>100.000000</td>\n",
              "      <td>64125.000000</td>\n",
              "    </tr>\n",
              "    <tr>\n",
              "      <th>max</th>\n",
              "      <td>157.180000</td>\n",
              "      <td>96.910000</td>\n",
              "      <td>27.760000</td>\n",
              "      <td>0.070000</td>\n",
              "      <td>100.000000</td>\n",
              "      <td>100.000000</td>\n",
              "      <td>85500.000000</td>\n",
              "    </tr>\n",
              "  </tbody>\n",
              "</table>\n",
              "</div>\n",
              "    <div class=\"colab-df-buttons\">\n",
              "\n",
              "  <div class=\"colab-df-container\">\n",
              "    <button class=\"colab-df-convert\" onclick=\"convertToInteractive('df-33c30b32-cb7a-4bf0-bad8-a62096aebe55')\"\n",
              "            title=\"Convert this dataframe to an interactive table.\"\n",
              "            style=\"display:none;\">\n",
              "\n",
              "  <svg xmlns=\"http://www.w3.org/2000/svg\" height=\"24px\" viewBox=\"0 -960 960 960\">\n",
              "    <path d=\"M120-120v-720h720v720H120Zm60-500h600v-160H180v160Zm220 220h160v-160H400v160Zm0 220h160v-160H400v160ZM180-400h160v-160H180v160Zm440 0h160v-160H620v160ZM180-180h160v-160H180v160Zm440 0h160v-160H620v160Z\"/>\n",
              "  </svg>\n",
              "    </button>\n",
              "\n",
              "  <style>\n",
              "    .colab-df-container {\n",
              "      display:flex;\n",
              "      gap: 12px;\n",
              "    }\n",
              "\n",
              "    .colab-df-convert {\n",
              "      background-color: #E8F0FE;\n",
              "      border: none;\n",
              "      border-radius: 50%;\n",
              "      cursor: pointer;\n",
              "      display: none;\n",
              "      fill: #1967D2;\n",
              "      height: 32px;\n",
              "      padding: 0 0 0 0;\n",
              "      width: 32px;\n",
              "    }\n",
              "\n",
              "    .colab-df-convert:hover {\n",
              "      background-color: #E2EBFA;\n",
              "      box-shadow: 0px 1px 2px rgba(60, 64, 67, 0.3), 0px 1px 3px 1px rgba(60, 64, 67, 0.15);\n",
              "      fill: #174EA6;\n",
              "    }\n",
              "\n",
              "    .colab-df-buttons div {\n",
              "      margin-bottom: 4px;\n",
              "    }\n",
              "\n",
              "    [theme=dark] .colab-df-convert {\n",
              "      background-color: #3B4455;\n",
              "      fill: #D2E3FC;\n",
              "    }\n",
              "\n",
              "    [theme=dark] .colab-df-convert:hover {\n",
              "      background-color: #434B5C;\n",
              "      box-shadow: 0px 1px 3px 1px rgba(0, 0, 0, 0.15);\n",
              "      filter: drop-shadow(0px 1px 2px rgba(0, 0, 0, 0.3));\n",
              "      fill: #FFFFFF;\n",
              "    }\n",
              "  </style>\n",
              "\n",
              "    <script>\n",
              "      const buttonEl =\n",
              "        document.querySelector('#df-33c30b32-cb7a-4bf0-bad8-a62096aebe55 button.colab-df-convert');\n",
              "      buttonEl.style.display =\n",
              "        google.colab.kernel.accessAllowed ? 'block' : 'none';\n",
              "\n",
              "      async function convertToInteractive(key) {\n",
              "        const element = document.querySelector('#df-33c30b32-cb7a-4bf0-bad8-a62096aebe55');\n",
              "        const dataTable =\n",
              "          await google.colab.kernel.invokeFunction('convertToInteractive',\n",
              "                                                    [key], {});\n",
              "        if (!dataTable) return;\n",
              "\n",
              "        const docLinkHtml = 'Like what you see? Visit the ' +\n",
              "          '<a target=\"_blank\" href=https://colab.research.google.com/notebooks/data_table.ipynb>data table notebook</a>'\n",
              "          + ' to learn more about interactive tables.';\n",
              "        element.innerHTML = '';\n",
              "        dataTable['output_type'] = 'display_data';\n",
              "        await google.colab.output.renderOutput(dataTable, element);\n",
              "        const docLink = document.createElement('div');\n",
              "        docLink.innerHTML = docLinkHtml;\n",
              "        element.appendChild(docLink);\n",
              "      }\n",
              "    </script>\n",
              "  </div>\n",
              "\n",
              "\n",
              "<div id=\"df-75fe5f18-da07-445d-aa9f-dde00158071c\">\n",
              "  <button class=\"colab-df-quickchart\" onclick=\"quickchart('df-75fe5f18-da07-445d-aa9f-dde00158071c')\"\n",
              "            title=\"Suggest charts\"\n",
              "            style=\"display:none;\">\n",
              "\n",
              "<svg xmlns=\"http://www.w3.org/2000/svg\" height=\"24px\"viewBox=\"0 0 24 24\"\n",
              "     width=\"24px\">\n",
              "    <g>\n",
              "        <path d=\"M19 3H5c-1.1 0-2 .9-2 2v14c0 1.1.9 2 2 2h14c1.1 0 2-.9 2-2V5c0-1.1-.9-2-2-2zM9 17H7v-7h2v7zm4 0h-2V7h2v10zm4 0h-2v-4h2v4z\"/>\n",
              "    </g>\n",
              "</svg>\n",
              "  </button>\n",
              "\n",
              "<style>\n",
              "  .colab-df-quickchart {\n",
              "      --bg-color: #E8F0FE;\n",
              "      --fill-color: #1967D2;\n",
              "      --hover-bg-color: #E2EBFA;\n",
              "      --hover-fill-color: #174EA6;\n",
              "      --disabled-fill-color: #AAA;\n",
              "      --disabled-bg-color: #DDD;\n",
              "  }\n",
              "\n",
              "  [theme=dark] .colab-df-quickchart {\n",
              "      --bg-color: #3B4455;\n",
              "      --fill-color: #D2E3FC;\n",
              "      --hover-bg-color: #434B5C;\n",
              "      --hover-fill-color: #FFFFFF;\n",
              "      --disabled-bg-color: #3B4455;\n",
              "      --disabled-fill-color: #666;\n",
              "  }\n",
              "\n",
              "  .colab-df-quickchart {\n",
              "    background-color: var(--bg-color);\n",
              "    border: none;\n",
              "    border-radius: 50%;\n",
              "    cursor: pointer;\n",
              "    display: none;\n",
              "    fill: var(--fill-color);\n",
              "    height: 32px;\n",
              "    padding: 0;\n",
              "    width: 32px;\n",
              "  }\n",
              "\n",
              "  .colab-df-quickchart:hover {\n",
              "    background-color: var(--hover-bg-color);\n",
              "    box-shadow: 0 1px 2px rgba(60, 64, 67, 0.3), 0 1px 3px 1px rgba(60, 64, 67, 0.15);\n",
              "    fill: var(--button-hover-fill-color);\n",
              "  }\n",
              "\n",
              "  .colab-df-quickchart-complete:disabled,\n",
              "  .colab-df-quickchart-complete:disabled:hover {\n",
              "    background-color: var(--disabled-bg-color);\n",
              "    fill: var(--disabled-fill-color);\n",
              "    box-shadow: none;\n",
              "  }\n",
              "\n",
              "  .colab-df-spinner {\n",
              "    border: 2px solid var(--fill-color);\n",
              "    border-color: transparent;\n",
              "    border-bottom-color: var(--fill-color);\n",
              "    animation:\n",
              "      spin 1s steps(1) infinite;\n",
              "  }\n",
              "\n",
              "  @keyframes spin {\n",
              "    0% {\n",
              "      border-color: transparent;\n",
              "      border-bottom-color: var(--fill-color);\n",
              "      border-left-color: var(--fill-color);\n",
              "    }\n",
              "    20% {\n",
              "      border-color: transparent;\n",
              "      border-left-color: var(--fill-color);\n",
              "      border-top-color: var(--fill-color);\n",
              "    }\n",
              "    30% {\n",
              "      border-color: transparent;\n",
              "      border-left-color: var(--fill-color);\n",
              "      border-top-color: var(--fill-color);\n",
              "      border-right-color: var(--fill-color);\n",
              "    }\n",
              "    40% {\n",
              "      border-color: transparent;\n",
              "      border-right-color: var(--fill-color);\n",
              "      border-top-color: var(--fill-color);\n",
              "    }\n",
              "    60% {\n",
              "      border-color: transparent;\n",
              "      border-right-color: var(--fill-color);\n",
              "    }\n",
              "    80% {\n",
              "      border-color: transparent;\n",
              "      border-right-color: var(--fill-color);\n",
              "      border-bottom-color: var(--fill-color);\n",
              "    }\n",
              "    90% {\n",
              "      border-color: transparent;\n",
              "      border-bottom-color: var(--fill-color);\n",
              "    }\n",
              "  }\n",
              "</style>\n",
              "\n",
              "  <script>\n",
              "    async function quickchart(key) {\n",
              "      const quickchartButtonEl =\n",
              "        document.querySelector('#' + key + ' button');\n",
              "      quickchartButtonEl.disabled = true;  // To prevent multiple clicks.\n",
              "      quickchartButtonEl.classList.add('colab-df-spinner');\n",
              "      try {\n",
              "        const charts = await google.colab.kernel.invokeFunction(\n",
              "            'suggestCharts', [key], {});\n",
              "      } catch (error) {\n",
              "        console.error('Error during call to suggestCharts:', error);\n",
              "      }\n",
              "      quickchartButtonEl.classList.remove('colab-df-spinner');\n",
              "      quickchartButtonEl.classList.add('colab-df-quickchart-complete');\n",
              "    }\n",
              "    (() => {\n",
              "      let quickchartButtonEl =\n",
              "        document.querySelector('#df-75fe5f18-da07-445d-aa9f-dde00158071c button');\n",
              "      quickchartButtonEl.style.display =\n",
              "        google.colab.kernel.accessAllowed ? 'block' : 'none';\n",
              "    })();\n",
              "  </script>\n",
              "</div>\n",
              "\n",
              "    </div>\n",
              "  </div>\n"
            ],
            "application/vnd.google.colaboratory.intrinsic+json": {
              "type": "dataframe",
              "summary": "{\n  \"name\": \"data\",\n  \"rows\": 8,\n  \"fields\": [\n    {\n      \"column\": \"Usage_kWh\",\n      \"properties\": {\n        \"dtype\": \"number\",\n        \"std\": 12374.624690749562,\n        \"min\": 0.0,\n        \"max\": 35040.0,\n        \"num_unique_values\": 8,\n        \"samples\": [\n          27.386892408675795,\n          4.57,\n          35040.0\n        ],\n        \"semantic_type\": \"\",\n        \"description\": \"\"\n      }\n    },\n    {\n      \"column\": \"Lagging_Current_Reactive.Power_kVarh\",\n      \"properties\": {\n        \"dtype\": \"number\",\n        \"std\": 12380.661672983968,\n        \"min\": 0.0,\n        \"max\": 35040.0,\n        \"num_unique_values\": 8,\n        \"samples\": [\n          13.035383561643837,\n          5.0,\n          35040.0\n        ],\n        \"semantic_type\": \"\",\n        \"description\": \"\"\n      }\n    },\n    {\n      \"column\": \"Leading_Current_Reactive_Power_kVarh\",\n      \"properties\": {\n        \"dtype\": \"number\",\n        \"std\": 12386.436127997682,\n        \"min\": 0.0,\n        \"max\": 35040.0,\n        \"num_unique_values\": 6,\n        \"samples\": [\n          35040.0,\n          3.8709486301369864,\n          27.76\n        ],\n        \"semantic_type\": \"\",\n        \"description\": \"\"\n      }\n    },\n    {\n      \"column\": \"CO2(tCO2)\",\n      \"properties\": {\n        \"dtype\": \"number\",\n        \"std\": 12388.504862920685,\n        \"min\": 0.0,\n        \"max\": 35040.0,\n        \"num_unique_values\": 6,\n        \"samples\": [\n          35040.0,\n          0.01152425799086758,\n          0.07\n        ],\n        \"semantic_type\": \"\",\n        \"description\": \"\"\n      }\n    },\n    {\n      \"column\": \"Lagging_Current_Power_Factor\",\n      \"properties\": {\n        \"dtype\": \"number\",\n        \"std\": 12365.847253090058,\n        \"min\": 0.0,\n        \"max\": 35040.0,\n        \"num_unique_values\": 8,\n        \"samples\": [\n          80.5780562214612,\n          87.96,\n          35040.0\n        ],\n        \"semantic_type\": \"\",\n        \"description\": \"\"\n      }\n    },\n    {\n      \"column\": \"Leading_Current_Power_Factor\",\n      \"properties\": {\n        \"dtype\": \"number\",\n        \"std\": 12362.582138508573,\n        \"min\": 0.0,\n        \"max\": 35040.0,\n        \"num_unique_values\": 6,\n        \"samples\": [\n          35040.0,\n          84.36786986301371,\n          100.0\n        ],\n        \"semantic_type\": \"\",\n        \"description\": \"\"\n      }\n    },\n    {\n      \"column\": \"NSM\",\n      \"properties\": {\n        \"dtype\": \"number\",\n        \"std\": 26360.473729831836,\n        \"min\": 0.0,\n        \"max\": 85500.0,\n        \"num_unique_values\": 7,\n        \"samples\": [\n          35040.0,\n          42750.0,\n          64125.0\n        ],\n        \"semantic_type\": \"\",\n        \"description\": \"\"\n      }\n    }\n  ]\n}"
            }
          },
          "metadata": {},
          "execution_count": 7
        }
      ]
    },
    {
      "cell_type": "markdown",
      "source": [
        "Observamos que el cuartil 2 de CO2(tC02) es 0, lo que implica que al menos la mitad del dataset tiene valores faltantes en ese campo."
      ],
      "metadata": {
        "id": "hJXmK3vO78Ic"
      }
    },
    {
      "cell_type": "markdown",
      "source": [
        "Realizaremos un diagrama de dispersión de los datos."
      ],
      "metadata": {
        "id": "lq1GIMgf7iRh"
      }
    },
    {
      "cell_type": "code",
      "source": [
        "fig = plt.figure()\n",
        "ax = fig.add_subplot(projection='3d')\n",
        "ax.scatter(data['Usage_kWh'],data['Lagging_Current_Reactive.Power_kVarh'],data['CO2(tCO2)'])\n",
        "ax.set_xlabel('Usage(kWh)')\n",
        "ax.set_ylabel('Lagging Current Reactive Power (kVarh)')\n",
        "ax.set_zlabel('CO2(tCO2)')"
      ],
      "metadata": {
        "colab": {
          "base_uri": "https://localhost:8080/",
          "height": 429
        },
        "id": "3WBooNih8XZk",
        "outputId": "43b1b748-7c14-4e08-c7c3-c691c8015f78"
      },
      "execution_count": null,
      "outputs": [
        {
          "output_type": "execute_result",
          "data": {
            "text/plain": [
              "Text(0.5, 0, 'CO2(tCO2)')"
            ]
          },
          "metadata": {},
          "execution_count": 8
        },
        {
          "output_type": "display_data",
          "data": {
            "text/plain": [
              "<Figure size 640x480 with 1 Axes>"
            ],
            "image/png": "[encoded data removed]"
          },
          "metadata": {}
        }
      ]
    },
    {
      "cell_type": "markdown",
      "source": [
        "Por medio del diagrama de puntos observamos un posible correlacion lineal."
      ],
      "metadata": {
        "id": "xlGK2LVx8fwu"
      }
    },
    {
      "cell_type": "markdown",
      "source": [
        "#Preprocesamiento"
      ],
      "metadata": {
        "id": "iewERm7i8nwn"
      }
    },
    {
      "cell_type": "markdown",
      "source": [
        "En este caso optare por imputar los datos, esto para no perder datos que podrian resultar valiosos, utilizaré el imputador de sklearn llamado KNNImputer.\n",
        "\n",
        "Este imputador utiliza el algoritmo de k-Nearest Neighbors para imputar, los valores son imputados usando la media de los n_neighbors más cercanos.\n",
        "Para imputar los datos usaré el dataset completo, y asi mantener una consistencia con los datos. Esto se hara unicamente con los valores númericos."
      ],
      "metadata": {
        "id": "sG54bx5t8rZO"
      }
    },
    {
      "cell_type": "code",
      "source": [
        "#Seleccionamos las celdas a imputar\n",
        "imputed_data = data[['Usage_kWh','Lagging_Current_Reactive.Power_kVarh','Leading_Current_Reactive_Power_kVarh','CO2(tCO2)','Lagging_Current_Power_Factor','Leading_Current_Power_Factor','NSM']].copy()\n",
        "#Remplazamos los 0 por NaN de numpy\n",
        "imputed_data = imputed_data.replace(0,np.nan)\n",
        "\n",
        "#Inicializamos el imputador e imputamos datos\n",
        "imputer = KNNImputer(n_neighbors=3)\n",
        "imputed_data = imputer.fit_transform(imputed_data)"
      ],
      "metadata": {
        "id": "C_V58X0l9Qdo"
      },
      "execution_count": null,
      "outputs": []
    },
    {
      "cell_type": "code",
      "source": [
        "data_imputed = data.copy()\n",
        "data_imputed[['Usage_kWh','Lagging_Current_Reactive.Power_kVarh','Leading_Current_Reactive_Power_kVarh','CO2(tCO2)','Lagging_Current_Power_Factor','Leading_Current_Power_Factor','NSM']]= imputed_data\n",
        "#Revisamos que la imputacion sea correcta\n",
        "data_imputed"
      ],
      "metadata": {
        "colab": {
          "base_uri": "https://localhost:8080/",
          "height": 617
        },
        "id": "FEmxDDRs_6HG",
        "outputId": "6e5e4dd1-adb4-44de-8b12-ac94f54e843e"
      },
      "execution_count": null,
      "outputs": [
        {
          "output_type": "execute_result",
          "data": {
            "text/plain": [
              "                   date  Usage_kWh  Lagging_Current_Reactive.Power_kVarh  \\\n",
              "0      01/01/2018 00:15       3.17                                  2.95   \n",
              "1      01/01/2018 00:30       4.00                                  4.46   \n",
              "2      01/01/2018 00:45       3.24                                  3.28   \n",
              "3      01/01/2018 01:00       3.31                                  3.56   \n",
              "4      01/01/2018 01:15       3.82                                  4.50   \n",
              "...                 ...        ...                                   ...   \n",
              "35035  31/12/2018 23:00       3.85                                  4.86   \n",
              "35036  31/12/2018 23:15       3.74                                  3.74   \n",
              "35037  31/12/2018 23:30       3.78                                  3.17   \n",
              "35038  31/12/2018 23:45       3.78                                  3.06   \n",
              "35039  31/12/2018 00:00       3.67                                  3.02   \n",
              "\n",
              "       Leading_Current_Reactive_Power_kVarh  CO2(tCO2)  \\\n",
              "0                                      0.04       0.01   \n",
              "1                                      0.04       0.01   \n",
              "2                                      0.04       0.01   \n",
              "3                                      0.04       0.01   \n",
              "4                                      0.04       0.01   \n",
              "...                                     ...        ...   \n",
              "35035                                  0.04       0.01   \n",
              "35036                                  0.04       0.01   \n",
              "35037                                  0.07       0.01   \n",
              "35038                                  0.11       0.01   \n",
              "35039                                  0.07       0.01   \n",
              "\n",
              "       Lagging_Current_Power_Factor  Leading_Current_Power_Factor      NSM  \\\n",
              "0                             73.21                        100.00    900.0   \n",
              "1                             66.77                        100.00   1800.0   \n",
              "2                             70.28                        100.00   2700.0   \n",
              "3                             68.09                        100.00   3600.0   \n",
              "4                             64.72                        100.00   4500.0   \n",
              "...                             ...                           ...      ...   \n",
              "35035                         62.10                        100.00  82800.0   \n",
              "35036                         70.71                        100.00  83700.0   \n",
              "35037                         76.62                         99.98  84600.0   \n",
              "35038                         77.72                         99.96  85500.0   \n",
              "35039                         77.22                         99.98  57300.0   \n",
              "\n",
              "      WeekStatus Day_of_week   Load_Type  \n",
              "0        Weekday      Monday  Light_Load  \n",
              "1        Weekday      Monday  Light_Load  \n",
              "2        Weekday      Monday  Light_Load  \n",
              "3        Weekday      Monday  Light_Load  \n",
              "4        Weekday      Monday  Light_Load  \n",
              "...          ...         ...         ...  \n",
              "35035    Weekday      Monday  Light_Load  \n",
              "35036    Weekday      Monday  Light_Load  \n",
              "35037    Weekday      Monday  Light_Load  \n",
              "35038    Weekday      Monday  Light_Load  \n",
              "35039    Weekday      Monday  Light_Load  \n",
              "\n",
              "[35040 rows x 11 columns]"
            ],
            "text/html": [
              "\n",
              "  <div id=\"df-ea1ee1f0-fda2-43b5-9d06-b90237cdfb25\" class=\"colab-df-container\">\n",
              "    <div>\n",
              "<style scoped>\n",
              "    .dataframe tbody tr th:only-of-type {\n",
              "        vertical-align: middle;\n",
              "    }\n",
              "\n",
              "    .dataframe tbody tr th {\n",
              "        vertical-align: top;\n",
              "    }\n",
              "\n",
              "    .dataframe thead th {\n",
              "        text-align: right;\n",
              "    }\n",
              "</style>\n",
              "<table border=\"1\" class=\"dataframe\">\n",
              "  <thead>\n",
              "    <tr style=\"text-align: right;\">\n",
              "      <th></th>\n",
              "      <th>date</th>\n",
              "      <th>Usage_kWh</th>\n",
              "      <th>Lagging_Current_Reactive.Power_kVarh</th>\n",
              "      <th>Leading_Current_Reactive_Power_kVarh</th>\n",
              "      <th>CO2(tCO2)</th>\n",
              "      <th>Lagging_Current_Power_Factor</th>\n",
              "      <th>Leading_Current_Power_Factor</th>\n",
              "      <th>NSM</th>\n",
              "      <th>WeekStatus</th>\n",
              "      <th>Day_of_week</th>\n",
              "      <th>Load_Type</th>\n",
              "    </tr>\n",
              "  </thead>\n",
              "  <tbody>\n",
              "    <tr>\n",
              "      <th>0</th>\n",
              "      <td>01/01/2018 00:15</td>\n",
              "      <td>3.17</td>\n",
              "      <td>2.95</td>\n",
              "      <td>0.04</td>\n",
              "      <td>0.01</td>\n",
              "      <td>73.21</td>\n",
              "      <td>100.00</td>\n",
              "      <td>900.0</td>\n",
              "      <td>Weekday</td>\n",
              "      <td>Monday</td>\n",
              "      <td>Light_Load</td>\n",
              "    </tr>\n",
              "    <tr>\n",
              "      <th>1</th>\n",
              "      <td>01/01/2018 00:30</td>\n",
              "      <td>4.00</td>\n",
              "      <td>4.46</td>\n",
              "      <td>0.04</td>\n",
              "      <td>0.01</td>\n",
              "      <td>66.77</td>\n",
              "      <td>100.00</td>\n",
              "      <td>1800.0</td>\n",
              "      <td>Weekday</td>\n",
              "      <td>Monday</td>\n",
              "      <td>Light_Load</td>\n",
              "    </tr>\n",
              "    <tr>\n",
              "      <th>2</th>\n",
              "      <td>01/01/2018 00:45</td>\n",
              "      <td>3.24</td>\n",
              "      <td>3.28</td>\n",
              "      <td>0.04</td>\n",
              "      <td>0.01</td>\n",
              "      <td>70.28</td>\n",
              "      <td>100.00</td>\n",
              "      <td>2700.0</td>\n",
              "      <td>Weekday</td>\n",
              "      <td>Monday</td>\n",
              "      <td>Light_Load</td>\n",
              "    </tr>\n",
              "    <tr>\n",
              "      <th>3</th>\n",
              "      <td>01/01/2018 01:00</td>\n",
              "      <td>3.31</td>\n",
              "      <td>3.56</td>\n",
              "      <td>0.04</td>\n",
              "      <td>0.01</td>\n",
              "      <td>68.09</td>\n",
              "      <td>100.00</td>\n",
              "      <td>3600.0</td>\n",
              "      <td>Weekday</td>\n",
              "      <td>Monday</td>\n",
              "      <td>Light_Load</td>\n",
              "    </tr>\n",
              "    <tr>\n",
              "      <th>4</th>\n",
              "      <td>01/01/2018 01:15</td>\n",
              "      <td>3.82</td>\n",
              "      <td>4.50</td>\n",
              "      <td>0.04</td>\n",
              "      <td>0.01</td>\n",
              "      <td>64.72</td>\n",
              "      <td>100.00</td>\n",
              "      <td>4500.0</td>\n",
              "      <td>Weekday</td>\n",
              "      <td>Monday</td>\n",
              "      <td>Light_Load</td>\n",
              "    </tr>\n",
              "    <tr>\n",
              "      <th>...</th>\n",
              "      <td>...</td>\n",
              "      <td>...</td>\n",
              "      <td>...</td>\n",
              "      <td>...</td>\n",
              "      <td>...</td>\n",
              "      <td>...</td>\n",
              "      <td>...</td>\n",
              "      <td>...</td>\n",
              "      <td>...</td>\n",
              "      <td>...</td>\n",
              "      <td>...</td>\n",
              "    </tr>\n",
              "    <tr>\n",
              "      <th>35035</th>\n",
              "      <td>31/12/2018 23:00</td>\n",
              "      <td>3.85</td>\n",
              "      <td>4.86</td>\n",
              "      <td>0.04</td>\n",
              "      <td>0.01</td>\n",
              "      <td>62.10</td>\n",
              "      <td>100.00</td>\n",
              "      <td>82800.0</td>\n",
              "      <td>Weekday</td>\n",
              "      <td>Monday</td>\n",
              "      <td>Light_Load</td>\n",
              "    </tr>\n",
              "    <tr>\n",
              "      <th>35036</th>\n",
              "      <td>31/12/2018 23:15</td>\n",
              "      <td>3.74</td>\n",
              "      <td>3.74</td>\n",
              "      <td>0.04</td>\n",
              "      <td>0.01</td>\n",
              "      <td>70.71</td>\n",
              "      <td>100.00</td>\n",
              "      <td>83700.0</td>\n",
              "      <td>Weekday</td>\n",
              "      <td>Monday</td>\n",
              "      <td>Light_Load</td>\n",
              "    </tr>\n",
              "    <tr>\n",
              "      <th>35037</th>\n",
              "      <td>31/12/2018 23:30</td>\n",
              "      <td>3.78</td>\n",
              "      <td>3.17</td>\n",
              "      <td>0.07</td>\n",
              "      <td>0.01</td>\n",
              "      <td>76.62</td>\n",
              "      <td>99.98</td>\n",
              "      <td>84600.0</td>\n",
              "      <td>Weekday</td>\n",
              "      <td>Monday</td>\n",
              "      <td>Light_Load</td>\n",
              "    </tr>\n",
              "    <tr>\n",
              "      <th>35038</th>\n",
              "      <td>31/12/2018 23:45</td>\n",
              "      <td>3.78</td>\n",
              "      <td>3.06</td>\n",
              "      <td>0.11</td>\n",
              "      <td>0.01</td>\n",
              "      <td>77.72</td>\n",
              "      <td>99.96</td>\n",
              "      <td>85500.0</td>\n",
              "      <td>Weekday</td>\n",
              "      <td>Monday</td>\n",
              "      <td>Light_Load</td>\n",
              "    </tr>\n",
              "    <tr>\n",
              "      <th>35039</th>\n",
              "      <td>31/12/2018 00:00</td>\n",
              "      <td>3.67</td>\n",
              "      <td>3.02</td>\n",
              "      <td>0.07</td>\n",
              "      <td>0.01</td>\n",
              "      <td>77.22</td>\n",
              "      <td>99.98</td>\n",
              "      <td>57300.0</td>\n",
              "      <td>Weekday</td>\n",
              "      <td>Monday</td>\n",
              "      <td>Light_Load</td>\n",
              "    </tr>\n",
              "  </tbody>\n",
              "</table>\n",
              "<p>35040 rows × 11 columns</p>\n",
              "</div>\n",
              "    <div class=\"colab-df-buttons\">\n",
              "\n",
              "  <div class=\"colab-df-container\">\n",
              "    <button class=\"colab-df-convert\" onclick=\"convertToInteractive('df-ea1ee1f0-fda2-43b5-9d06-b90237cdfb25')\"\n",
              "            title=\"Convert this dataframe to an interactive table.\"\n",
              "            style=\"display:none;\">\n",
              "\n",
              "  <svg xmlns=\"http://www.w3.org/2000/svg\" height=\"24px\" viewBox=\"0 -960 960 960\">\n",
              "    <path d=\"M120-120v-720h720v720H120Zm60-500h600v-160H180v160Zm220 220h160v-160H400v160Zm0 220h160v-160H400v160ZM180-400h160v-160H180v160Zm440 0h160v-160H620v160ZM180-180h160v-160H180v160Zm440 0h160v-160H620v160Z\"/>\n",
              "  </svg>\n",
              "    </button>\n",
              "\n",
              "  <style>\n",
              "    .colab-df-container {\n",
              "      display:flex;\n",
              "      gap: 12px;\n",
              "    }\n",
              "\n",
              "    .colab-df-convert {\n",
              "      background-color: #E8F0FE;\n",
              "      border: none;\n",
              "      border-radius: 50%;\n",
              "      cursor: pointer;\n",
              "      display: none;\n",
              "      fill: #1967D2;\n",
              "      height: 32px;\n",
              "      padding: 0 0 0 0;\n",
              "      width: 32px;\n",
              "    }\n",
              "\n",
              "    .colab-df-convert:hover {\n",
              "      background-color: #E2EBFA;\n",
              "      box-shadow: 0px 1px 2px rgba(60, 64, 67, 0.3), 0px 1px 3px 1px rgba(60, 64, 67, 0.15);\n",
              "      fill: #174EA6;\n",
              "    }\n",
              "\n",
              "    .colab-df-buttons div {\n",
              "      margin-bottom: 4px;\n",
              "    }\n",
              "\n",
              "    [theme=dark] .colab-df-convert {\n",
              "      background-color: #3B4455;\n",
              "      fill: #D2E3FC;\n",
              "    }\n",
              "\n",
              "    [theme=dark] .colab-df-convert:hover {\n",
              "      background-color: #434B5C;\n",
              "      box-shadow: 0px 1px 3px 1px rgba(0, 0, 0, 0.15);\n",
              "      filter: drop-shadow(0px 1px 2px rgba(0, 0, 0, 0.3));\n",
              "      fill: #FFFFFF;\n",
              "    }\n",
              "  </style>\n",
              "\n",
              "    <script>\n",
              "      const buttonEl =\n",
              "        document.querySelector('#df-ea1ee1f0-fda2-43b5-9d06-b90237cdfb25 button.colab-df-convert');\n",
              "      buttonEl.style.display =\n",
              "        google.colab.kernel.accessAllowed ? 'block' : 'none';\n",
              "\n",
              "      async function convertToInteractive(key) {\n",
              "        const element = document.querySelector('#df-ea1ee1f0-fda2-43b5-9d06-b90237cdfb25');\n",
              "        const dataTable =\n",
              "          await google.colab.kernel.invokeFunction('convertToInteractive',\n",
              "                                                    [key], {});\n",
              "        if (!dataTable) return;\n",
              "\n",
              "        const docLinkHtml = 'Like what you see? Visit the ' +\n",
              "          '<a target=\"_blank\" href=https://colab.research.google.com/notebooks/data_table.ipynb>data table notebook</a>'\n",
              "          + ' to learn more about interactive tables.';\n",
              "        element.innerHTML = '';\n",
              "        dataTable['output_type'] = 'display_data';\n",
              "        await google.colab.output.renderOutput(dataTable, element);\n",
              "        const docLink = document.createElement('div');\n",
              "        docLink.innerHTML = docLinkHtml;\n",
              "        element.appendChild(docLink);\n",
              "      }\n",
              "    </script>\n",
              "  </div>\n",
              "\n",
              "\n",
              "<div id=\"df-5a7fd5b9-8a86-450c-95ed-104f8ba9c19d\">\n",
              "  <button class=\"colab-df-quickchart\" onclick=\"quickchart('df-5a7fd5b9-8a86-450c-95ed-104f8ba9c19d')\"\n",
              "            title=\"Suggest charts\"\n",
              "            style=\"display:none;\">\n",
              "\n",
              "<svg xmlns=\"http://www.w3.org/2000/svg\" height=\"24px\"viewBox=\"0 0 24 24\"\n",
              "     width=\"24px\">\n",
              "    <g>\n",
              "        <path d=\"M19 3H5c-1.1 0-2 .9-2 2v14c0 1.1.9 2 2 2h14c1.1 0 2-.9 2-2V5c0-1.1-.9-2-2-2zM9 17H7v-7h2v7zm4 0h-2V7h2v10zm4 0h-2v-4h2v4z\"/>\n",
              "    </g>\n",
              "</svg>\n",
              "  </button>\n",
              "\n",
              "<style>\n",
              "  .colab-df-quickchart {\n",
              "      --bg-color: #E8F0FE;\n",
              "      --fill-color: #1967D2;\n",
              "      --hover-bg-color: #E2EBFA;\n",
              "      --hover-fill-color: #174EA6;\n",
              "      --disabled-fill-color: #AAA;\n",
              "      --disabled-bg-color: #DDD;\n",
              "  }\n",
              "\n",
              "  [theme=dark] .colab-df-quickchart {\n",
              "      --bg-color: #3B4455;\n",
              "      --fill-color: #D2E3FC;\n",
              "      --hover-bg-color: #434B5C;\n",
              "      --hover-fill-color: #FFFFFF;\n",
              "      --disabled-bg-color: #3B4455;\n",
              "      --disabled-fill-color: #666;\n",
              "  }\n",
              "\n",
              "  .colab-df-quickchart {\n",
              "    background-color: var(--bg-color);\n",
              "    border: none;\n",
              "    border-radius: 50%;\n",
              "    cursor: pointer;\n",
              "    display: none;\n",
              "    fill: var(--fill-color);\n",
              "    height: 32px;\n",
              "    padding: 0;\n",
              "    width: 32px;\n",
              "  }\n",
              "\n",
              "  .colab-df-quickchart:hover {\n",
              "    background-color: var(--hover-bg-color);\n",
              "    box-shadow: 0 1px 2px rgba(60, 64, 67, 0.3), 0 1px 3px 1px rgba(60, 64, 67, 0.15);\n",
              "    fill: var(--button-hover-fill-color);\n",
              "  }\n",
              "\n",
              "  .colab-df-quickchart-complete:disabled,\n",
              "  .colab-df-quickchart-complete:disabled:hover {\n",
              "    background-color: var(--disabled-bg-color);\n",
              "    fill: var(--disabled-fill-color);\n",
              "    box-shadow: none;\n",
              "  }\n",
              "\n",
              "  .colab-df-spinner {\n",
              "    border: 2px solid var(--fill-color);\n",
              "    border-color: transparent;\n",
              "    border-bottom-color: var(--fill-color);\n",
              "    animation:\n",
              "      spin 1s steps(1) infinite;\n",
              "  }\n",
              "\n",
              "  @keyframes spin {\n",
              "    0% {\n",
              "      border-color: transparent;\n",
              "      border-bottom-color: var(--fill-color);\n",
              "      border-left-color: var(--fill-color);\n",
              "    }\n",
              "    20% {\n",
              "      border-color: transparent;\n",
              "      border-left-color: var(--fill-color);\n",
              "      border-top-color: var(--fill-color);\n",
              "    }\n",
              "    30% {\n",
              "      border-color: transparent;\n",
              "      border-left-color: var(--fill-color);\n",
              "      border-top-color: var(--fill-color);\n",
              "      border-right-color: var(--fill-color);\n",
              "    }\n",
              "    40% {\n",
              "      border-color: transparent;\n",
              "      border-right-color: var(--fill-color);\n",
              "      border-top-color: var(--fill-color);\n",
              "    }\n",
              "    60% {\n",
              "      border-color: transparent;\n",
              "      border-right-color: var(--fill-color);\n",
              "    }\n",
              "    80% {\n",
              "      border-color: transparent;\n",
              "      border-right-color: var(--fill-color);\n",
              "      border-bottom-color: var(--fill-color);\n",
              "    }\n",
              "    90% {\n",
              "      border-color: transparent;\n",
              "      border-bottom-color: var(--fill-color);\n",
              "    }\n",
              "  }\n",
              "</style>\n",
              "\n",
              "  <script>\n",
              "    async function quickchart(key) {\n",
              "      const quickchartButtonEl =\n",
              "        document.querySelector('#' + key + ' button');\n",
              "      quickchartButtonEl.disabled = true;  // To prevent multiple clicks.\n",
              "      quickchartButtonEl.classList.add('colab-df-spinner');\n",
              "      try {\n",
              "        const charts = await google.colab.kernel.invokeFunction(\n",
              "            'suggestCharts', [key], {});\n",
              "      } catch (error) {\n",
              "        console.error('Error during call to suggestCharts:', error);\n",
              "      }\n",
              "      quickchartButtonEl.classList.remove('colab-df-spinner');\n",
              "      quickchartButtonEl.classList.add('colab-df-quickchart-complete');\n",
              "    }\n",
              "    (() => {\n",
              "      let quickchartButtonEl =\n",
              "        document.querySelector('#df-5a7fd5b9-8a86-450c-95ed-104f8ba9c19d button');\n",
              "      quickchartButtonEl.style.display =\n",
              "        google.colab.kernel.accessAllowed ? 'block' : 'none';\n",
              "    })();\n",
              "  </script>\n",
              "</div>\n",
              "\n",
              "  <div id=\"id_327171f0-7d07-44de-a87f-9b657b86394a\">\n",
              "    <style>\n",
              "      .colab-df-generate {\n",
              "        background-color: #E8F0FE;\n",
              "        border: none;\n",
              "        border-radius: 50%;\n",
              "        cursor: pointer;\n",
              "        display: none;\n",
              "        fill: #1967D2;\n",
              "        height: 32px;\n",
              "        padding: 0 0 0 0;\n",
              "        width: 32px;\n",
              "      }\n",
              "\n",
              "      .colab-df-generate:hover {\n",
              "        background-color: #E2EBFA;\n",
              "        box-shadow: 0px 1px 2px rgba(60, 64, 67, 0.3), 0px 1px 3px 1px rgba(60, 64, 67, 0.15);\n",
              "        fill: #174EA6;\n",
              "      }\n",
              "\n",
              "      [theme=dark] .colab-df-generate {\n",
              "        background-color: #3B4455;\n",
              "        fill: #D2E3FC;\n",
              "      }\n",
              "\n",
              "      [theme=dark] .colab-df-generate:hover {\n",
              "        background-color: #434B5C;\n",
              "        box-shadow: 0px 1px 3px 1px rgba(0, 0, 0, 0.15);\n",
              "        filter: drop-shadow(0px 1px 2px rgba(0, 0, 0, 0.3));\n",
              "        fill: #FFFFFF;\n",
              "      }\n",
              "    </style>\n",
              "    <button class=\"colab-df-generate\" onclick=\"generateWithVariable('data_imputed')\"\n",
              "            title=\"Generate code using this dataframe.\"\n",
              "            style=\"display:none;\">\n",
              "\n",
              "  <svg xmlns=\"http://www.w3.org/2000/svg\" height=\"24px\"viewBox=\"0 0 24 24\"\n",
              "       width=\"24px\">\n",
              "    <path d=\"M7,19H8.4L18.45,9,17,7.55,7,17.6ZM5,21V16.75L18.45,3.32a2,2,0,0,1,2.83,0l1.4,1.43a1.91,1.91,0,0,1,.58,1.4,1.91,1.91,0,0,1-.58,1.4L9.25,21ZM18.45,9,17,7.55Zm-12,3A5.31,5.31,0,0,0,4.9,8.1,5.31,5.31,0,0,0,1,6.5,5.31,5.31,0,0,0,4.9,4.9,5.31,5.31,0,0,0,6.5,1,5.31,5.31,0,0,0,8.1,4.9,5.31,5.31,0,0,0,12,6.5,5.46,5.46,0,0,0,6.5,12Z\"/>\n",
              "  </svg>\n",
              "    </button>\n",
              "    <script>\n",
              "      (() => {\n",
              "      const buttonEl =\n",
              "        document.querySelector('#id_327171f0-7d07-44de-a87f-9b657b86394a button.colab-df-generate');\n",
              "      buttonEl.style.display =\n",
              "        google.colab.kernel.accessAllowed ? 'block' : 'none';\n",
              "\n",
              "      buttonEl.onclick = () => {\n",
              "        google.colab.notebook.generateWithVariable('data_imputed');\n",
              "      }\n",
              "      })();\n",
              "    </script>\n",
              "  </div>\n",
              "\n",
              "    </div>\n",
              "  </div>\n"
            ],
            "application/vnd.google.colaboratory.intrinsic+json": {
              "type": "dataframe",
              "variable_name": "data_imputed",
              "repr_error": "'str' object has no attribute 'empty'"
            }
          },
          "metadata": {},
          "execution_count": 10
        }
      ]
    },
    {
      "cell_type": "markdown",
      "source": [
        "Re-graficamos el diagrama de dispersión."
      ],
      "metadata": {
        "id": "ZIo8Ho8EAhWq"
      }
    },
    {
      "cell_type": "code",
      "source": [
        "fig = plt.figure()\n",
        "ax = fig.add_subplot(projection='3d')\n",
        "ax.scatter(data_imputed['Usage_kWh'],data_imputed['Lagging_Current_Reactive.Power_kVarh'],data_imputed['CO2(tCO2)'])\n",
        "ax.set_xlabel('Usage(kWh)')\n",
        "ax.set_ylabel('Lagging Current Reactive Power (kVarh)')\n",
        "ax.set_zlabel('CO2(tCO2)')"
      ],
      "metadata": {
        "colab": {
          "base_uri": "https://localhost:8080/",
          "height": 429
        },
        "id": "YhEXYbh8Alix",
        "outputId": "9646cb0a-46ef-43b8-9483-99d8fb4b7d50"
      },
      "execution_count": null,
      "outputs": [
        {
          "output_type": "execute_result",
          "data": {
            "text/plain": [
              "Text(0.5, 0, 'CO2(tCO2)')"
            ]
          },
          "metadata": {},
          "execution_count": 11
        },
        {
          "output_type": "display_data",
          "data": {
            "text/plain": [
              "<Figure size 640x480 with 1 Axes>"
            ],
            "image/png": "[encoded data removed]"
          },
          "metadata": {}
        }
      ]
    },
    {
      "cell_type": "markdown",
      "source": [
        "Imputacion completada :)"
      ],
      "metadata": {
        "id": "KG7TroPUBCBl"
      }
    },
    {
      "cell_type": "markdown",
      "source": [
        "#Regresión lineal multivariada"
      ],
      "metadata": {
        "id": "JjGrzPb_BEWn"
      }
    },
    {
      "cell_type": "markdown",
      "source": [
        "Declararemos y definiremos las funciones de normalizacion, costo y gradiente descendente necesarias para hacer la regresión."
      ],
      "metadata": {
        "id": "9_Y3X9MfDQmx"
      }
    },
    {
      "cell_type": "code",
      "source": [
        "def  featureNormalize(X):\n",
        "    X_norm = X.copy()\n",
        "    mu = np.zeros(X.shape[1])\n",
        "    sigma = np.zeros(X.shape[1])\n",
        "    mu = np.mean(X, axis = 0)\n",
        "    sigma = np.std(X, axis = 0)\n",
        "    X_norm = X_norm - mu\n",
        "    X_norm = X_norm / sigma\n",
        "    return X_norm, mu, sigma"
      ],
      "metadata": {
        "id": "x0VGQI-JDa2f"
      },
      "execution_count": null,
      "outputs": []
    },
    {
      "cell_type": "code",
      "source": [
        "def computeCostMulti(X, y, theta):\n",
        "    m = y.shape[0]\n",
        "    J = 0.0\n",
        "    J = 1./(2. * m) * np.sum((np.dot(X, theta) - y)**2)\n",
        "    return J"
      ],
      "metadata": {
        "id": "wkf3q09-Dj-l"
      },
      "execution_count": null,
      "outputs": []
    },
    {
      "cell_type": "code",
      "source": [
        "def gradientDescentMulti(X, y, theta, alpha, num_iters):\n",
        "    m = y.shape[0]\n",
        "    theta = theta.copy()\n",
        "    J_history = []\n",
        "    for i in range(num_iters):\n",
        "        theta = theta - (alpha/m) * np.dot(X.T, (np.dot(X, theta) - y))\n",
        "        J_history.append(computeCostMulti(X, y, theta))\n",
        "\n",
        "    return theta, J_history"
      ],
      "metadata": {
        "id": "3VZ4BZxtDxrC"
      },
      "execution_count": null,
      "outputs": []
    },
    {
      "cell_type": "markdown",
      "source": [
        "Una vez definidas y declaradas las funciones necesarias, prepararemos los datos para aplicar la regresión."
      ],
      "metadata": {
        "id": "xDVCyRwiEO2L"
      }
    },
    {
      "cell_type": "code",
      "source": [
        "#Extraemos los datos del dataset como un ndarray de numpy\n",
        "data_regresion = data_imputed[['Usage_kWh','Lagging_Current_Reactive.Power_kVarh','CO2(tCO2)']].copy()\n",
        "data_regresion = data_regresion[['Usage_kWh','Lagging_Current_Reactive.Power_kVarh','CO2(tCO2)']].values\n",
        "\n",
        "#Extraemos los valores de X,Y y Z\n",
        "X = data_regresion[:, 0:2]\n",
        "y = data_regresion[:, 2]\n",
        "m = y.size\n",
        "\n",
        "#Transformamos la forma de la matriz\n",
        "y = y.reshape((m, 1))"
      ],
      "metadata": {
        "id": "RzYgq_tKEXPp"
      },
      "execution_count": null,
      "outputs": []
    },
    {
      "cell_type": "markdown",
      "source": [
        "Una vez preparados los datos procederemos a la normalización."
      ],
      "metadata": {
        "id": "AQIGVJP2Fy-1"
      }
    },
    {
      "cell_type": "code",
      "source": [
        "#Se normalizacn los datos con la funcion de normalizacion.\n",
        "X_norm, mu, sigma = featureNormalize(X)\n",
        "print(\"Las medias son: \",mu)\n",
        "print(\"Las desviaciones estandar son:\", sigma)"
      ],
      "metadata": {
        "colab": {
          "base_uri": "https://localhost:8080/"
        },
        "id": "jivmDOJRF20Y",
        "outputId": "673a67b5-d3ff-481a-942b-3785cd30f4eb"
      },
      "execution_count": null,
      "outputs": [
        {
          "output_type": "stream",
          "name": "stdout",
          "text": [
            "Las medias son:  [27.38767402 13.13787632]\n",
            "Las desviaciones estandar son: [33.44358244 16.22791699]\n"
          ]
        }
      ]
    },
    {
      "cell_type": "markdown",
      "source": [
        "Ahora añadiremos los interceptos a X"
      ],
      "metadata": {
        "id": "XOFPfysZGTn7"
      }
    },
    {
      "cell_type": "code",
      "source": [
        "#Añadimos los interceptos y la normalizacion a X\n",
        "X = np.concatenate([np.ones((m, 1)), X_norm], axis = 1)"
      ],
      "metadata": {
        "id": "t1-GN-VbGSek"
      },
      "execution_count": null,
      "outputs": []
    },
    {
      "cell_type": "markdown",
      "source": [
        "Realizado eso podemos pasar a realizar las pruebas de la regresion en sí."
      ],
      "metadata": {
        "id": "xYNqU4ABGp-A"
      }
    },
    {
      "cell_type": "markdown",
      "source": [
        "##Pruebas de numero de iteraciones y valor alpha"
      ],
      "metadata": {
        "id": "Wazp9SHYGuvC"
      }
    },
    {
      "cell_type": "markdown",
      "source": [
        "Iniciare probando **alpha = 0.01** con un numero de iteraciones igual a 1500"
      ],
      "metadata": {
        "id": "zaN8xtWRG8tw"
      }
    },
    {
      "cell_type": "code",
      "source": [
        "alpha = 0.01\n",
        "num_iters = 1500\n",
        "theta = np.zeros((3, 1))\n",
        "theta, J_history = gradientDescentMulti(X, y, theta, alpha, num_iters)\n",
        "theta1 = theta.copy()\n",
        "print(\"Los valores de theta son: \",theta)"
      ],
      "metadata": {
        "colab": {
          "base_uri": "https://localhost:8080/"
        },
        "id": "alG7OnzvG3kN",
        "outputId": "472f55ec-b9c9-430e-e3bb-33ebdd4beef4"
      },
      "execution_count": null,
      "outputs": [
        {
          "output_type": "stream",
          "name": "stdout",
          "text": [
            "Los valores de theta son:  [[0.01781826]\n",
            " [0.00977794]\n",
            " [0.00195354]]\n"
          ]
        }
      ]
    },
    {
      "cell_type": "markdown",
      "source": [
        "Graficaremos el costo y el numero de iteraciones para observar si converge."
      ],
      "metadata": {
        "id": "FZ6WexYFHaRU"
      }
    },
    {
      "cell_type": "code",
      "source": [
        "plt.plot(np.arange(len(J_history)), J_history, lw=2)\n",
        "plt.xlabel('Iteraciones')\n",
        "plt.ylabel('Costo')"
      ],
      "metadata": {
        "colab": {
          "base_uri": "https://localhost:8080/",
          "height": 466
        },
        "id": "GqDiX9vCHjxR",
        "outputId": "5243538e-e6b3-4f55-d5d2-14b57c0ff84e"
      },
      "execution_count": null,
      "outputs": [
        {
          "output_type": "execute_result",
          "data": {
            "text/plain": [
              "Text(0, 0.5, 'Costo')"
            ]
          },
          "metadata": {},
          "execution_count": 19
        },
        {
          "output_type": "display_data",
          "data": {
            "text/plain": [
              "<Figure size 640x480 with 1 Axes>"
            ],
            "image/png": "[encoded data removed]"
          },
          "metadata": {}
        }
      ]
    },
    {
      "cell_type": "markdown",
      "source": [
        "Observamos que el costo no cambia practicamente nada a partir de la iteracion 200 +- 10, y si converge a un valor. Revisaremos con valore alpha mas altos."
      ],
      "metadata": {
        "id": "jATa1zLYIkcJ"
      }
    },
    {
      "cell_type": "markdown",
      "source": [
        "Prueba **alpha = 0.3**"
      ],
      "metadata": {
        "id": "YJ5h7t5uI6ER"
      }
    },
    {
      "cell_type": "code",
      "source": [
        "alpha = 0.3\n",
        "num_iters = 1500\n",
        "theta = np.zeros((3, 1))\n",
        "theta, J_history = gradientDescentMulti(X, y, theta, alpha, num_iters)\n",
        "theta2 = theta.copy()\n",
        "print(\"Los valores de theta son: \",theta)"
      ],
      "metadata": {
        "colab": {
          "base_uri": "https://localhost:8080/"
        },
        "id": "ARGVJlzuI_1X",
        "outputId": "603c0cf0-f534-4859-955d-4761e4b496b3"
      },
      "execution_count": null,
      "outputs": [
        {
          "output_type": "stream",
          "name": "stdout",
          "text": [
            "Los valores de theta son:  [[0.01781827]\n",
            " [0.01082701]\n",
            " [0.00090447]]\n"
          ]
        }
      ]
    },
    {
      "cell_type": "code",
      "source": [
        "plt.plot(np.arange(len(J_history)), J_history, lw=2)\n",
        "plt.xlabel('Iteraciones')\n",
        "plt.ylabel('Costo')"
      ],
      "metadata": {
        "colab": {
          "base_uri": "https://localhost:8080/",
          "height": 467
        },
        "id": "6bpt5MEbJFkq",
        "outputId": "16a28497-5cfd-468d-ffeb-84db669b7b76"
      },
      "execution_count": null,
      "outputs": [
        {
          "output_type": "execute_result",
          "data": {
            "text/plain": [
              "Text(0, 0.5, 'Costo')"
            ]
          },
          "metadata": {},
          "execution_count": 21
        },
        {
          "output_type": "display_data",
          "data": {
            "text/plain": [
              "<Figure size 640x480 with 1 Axes>"
            ],
            "image/png": "[encoded data removed]"
          },
          "metadata": {}
        }
      ]
    },
    {
      "cell_type": "markdown",
      "source": [
        "Observamos un cambio dramatico en el numero de iteracion para la convergencia, aunque observamos que los valores alpha cambian significativamente."
      ],
      "metadata": {
        "id": "vgJiNIPxJOYM"
      }
    },
    {
      "cell_type": "markdown",
      "source": [
        "Prueba **alpha = 0.0001**"
      ],
      "metadata": {
        "id": "-mdTOkUuJZL0"
      }
    },
    {
      "cell_type": "code",
      "source": [
        "alpha = 0.0001\n",
        "num_iters = 1500\n",
        "theta = np.zeros((3, 1))\n",
        "theta, J_history = gradientDescentMulti(X, y, theta, alpha, num_iters)\n",
        "theta3 = theta.copy()\n",
        "print(\"Los valores de theta son: \",theta)"
      ],
      "metadata": {
        "colab": {
          "base_uri": "https://localhost:8080/"
        },
        "id": "YvZf5Qt9JYgh",
        "outputId": "d607dd85-7c7a-4c6e-cf70-a6aa1cac73df"
      },
      "execution_count": null,
      "outputs": [
        {
          "output_type": "stream",
          "name": "stdout",
          "text": [
            "Los valores de theta son:  [[0.00248206]\n",
            " [0.00152885]\n",
            " [0.00137595]]\n"
          ]
        }
      ]
    },
    {
      "cell_type": "code",
      "source": [
        "plt.plot(np.arange(len(J_history)), J_history, lw=2)\n",
        "plt.xlabel('Iteraciones')\n",
        "plt.ylabel('Costo')"
      ],
      "metadata": {
        "colab": {
          "base_uri": "https://localhost:8080/",
          "height": 466
        },
        "id": "Sw3WekfcJ4OB",
        "outputId": "af6563cd-a0f3-422b-bc3b-a08372f82db4"
      },
      "execution_count": null,
      "outputs": [
        {
          "output_type": "execute_result",
          "data": {
            "text/plain": [
              "Text(0, 0.5, 'Costo')"
            ]
          },
          "metadata": {},
          "execution_count": 23
        },
        {
          "output_type": "display_data",
          "data": {
            "text/plain": [
              "<Figure size 640x480 with 1 Axes>"
            ],
            "image/png": "[encoded data removed]"
          },
          "metadata": {}
        }
      ]
    },
    {
      "cell_type": "markdown",
      "source": [
        "Observamos que con un valor mas pequeño de alpha la convergencia tarda muchisimo, casi las 1400 iteraciones, y llega a un valor similar de theta con alpha = 0.01"
      ],
      "metadata": {
        "id": "AmgQD4cQJ6-N"
      }
    },
    {
      "cell_type": "markdown",
      "source": [
        "Prueba **alpha = 0.7**"
      ],
      "metadata": {
        "id": "sTO77gCnKKDm"
      }
    },
    {
      "cell_type": "code",
      "source": [
        "alpha = 0.7\n",
        "num_iters = 1500\n",
        "theta = np.zeros((3, 1))\n",
        "theta, J_history = gradientDescentMulti(X, y, theta, alpha, num_iters)\n",
        "theta4 = theta.copy()\n",
        "print(\"Los valores de theta son: \",theta)"
      ],
      "metadata": {
        "colab": {
          "base_uri": "https://localhost:8080/"
        },
        "id": "BNyqKwCGKUDe",
        "outputId": "70fef5cf-97e2-4c19-d0eb-fc59417777d0"
      },
      "execution_count": null,
      "outputs": [
        {
          "output_type": "stream",
          "name": "stdout",
          "text": [
            "Los valores de theta son:  [[0.01781827]\n",
            " [0.01082701]\n",
            " [0.00090447]]\n"
          ]
        }
      ]
    },
    {
      "cell_type": "code",
      "source": [
        "plt.plot(np.arange(len(J_history)), J_history, lw=2)\n",
        "plt.xlabel('Iteraciones')\n",
        "plt.ylabel('Costo')"
      ],
      "metadata": {
        "colab": {
          "base_uri": "https://localhost:8080/",
          "height": 482
        },
        "id": "idTBc2hdKXNA",
        "outputId": "6c36618b-355f-4741-86da-06d711e990e1"
      },
      "execution_count": null,
      "outputs": [
        {
          "output_type": "execute_result",
          "data": {
            "text/plain": [
              "Text(0, 0.5, 'Costo')"
            ]
          },
          "metadata": {},
          "execution_count": 25
        },
        {
          "output_type": "display_data",
          "data": {
            "text/plain": [
              "<Figure size 640x480 with 1 Axes>"
            ],
            "image/png": "[encoded data removed]"
          },
          "metadata": {}
        }
      ]
    },
    {
      "cell_type": "markdown",
      "source": [
        "Observamos igual una convergencia rapida, y un valor de theta aproximado al de **alpha = 0.3**"
      ],
      "metadata": {
        "id": "JP-kfhjQKaJr"
      }
    },
    {
      "cell_type": "markdown",
      "source": [
        "##Error medio absoluto"
      ],
      "metadata": {
        "id": "BoT-bThNKrk6"
      }
    },
    {
      "cell_type": "markdown",
      "source": [
        "Definiremos una función para calcular el error medio absoluto y comparar a las tres alphas."
      ],
      "metadata": {
        "id": "P5AY2tE5K14t"
      }
    },
    {
      "cell_type": "code",
      "source": [
        "def meanAbsoluteError(X, y, theta):\n",
        "  m = y.shape[0]\n",
        "  J = 0.0\n",
        "  J = 1./(m) * np.sum(np.absolute((np.dot(X, theta) - y)))\n",
        "  return J"
      ],
      "metadata": {
        "id": "1UgUf3-TK1iU"
      },
      "execution_count": null,
      "outputs": []
    },
    {
      "cell_type": "markdown",
      "source": [
        "Calcularemos y graficaremos los errores medios absolutos de las pruebas que realizamos."
      ],
      "metadata": {
        "id": "994EbLP9MhLR"
      }
    },
    {
      "cell_type": "code",
      "source": [
        "#Calculamos el error medio absoluto para las thetas.\n",
        "mean_abs_error1 = meanAbsoluteError(X,y,theta1)\n",
        "print(\"Error alpha = 0.01, iteraciones = 1500: \",mean_abs_error1)\n",
        "mean_abs_error2 = meanAbsoluteError(X,y,theta2)\n",
        "print(\"Error alpha = 0.3, iteraciones = 1500: \",mean_abs_error2)\n",
        "mean_abs_error3 = meanAbsoluteError(X,y,theta3)\n",
        "print(\"Error alpha = 0.0001, iteraciones = 1500: \",mean_abs_error3)\n",
        "mean_abs_error4 = meanAbsoluteError(X,y,theta4)\n",
        "print(\"Error alpha = 0.7, iteraciones = 1500: \",mean_abs_error4)\n"
      ],
      "metadata": {
        "colab": {
          "base_uri": "https://localhost:8080/"
        },
        "id": "vtknSnJWMocW",
        "outputId": "89b974ec-4405-467a-eda4-7d7f2d7491e6"
      },
      "execution_count": null,
      "outputs": [
        {
          "output_type": "stream",
          "name": "stdout",
          "text": [
            "Error alpha = 0.01, iteraciones = 1500:  0.0019417375932008914\n",
            "Error alpha = 0.3, iteraciones = 1500:  0.001953021269341001\n",
            "Error alpha = 0.0001, iteraciones = 1500:  0.015336209468385625\n",
            "Error alpha = 0.7, iteraciones = 1500:  0.0019530212693410001\n"
          ]
        }
      ]
    },
    {
      "cell_type": "code",
      "source": [
        "labels = [\"alpha = 0.01\", \"alpha = 0.3\",\"alpha = 0.0001\",\"alpha = 0.7\"]\n",
        "values = [mean_abs_error1,mean_abs_error2,mean_abs_error3,mean_abs_error4]\n",
        "\n",
        "#Usamos una grafica de barras para observar la diferencia de manera visual\n",
        "fig, ax = plt.subplots()\n",
        "ax.bar(x = labels, height = values)"
      ],
      "metadata": {
        "colab": {
          "base_uri": "https://localhost:8080/",
          "height": 450
        },
        "id": "pS_mNT07Nqva",
        "outputId": "52c087b2-9cb9-4f08-d0f1-7706e614bcde"
      },
      "execution_count": null,
      "outputs": [
        {
          "output_type": "execute_result",
          "data": {
            "text/plain": [
              "<BarContainer object of 4 artists>"
            ]
          },
          "metadata": {},
          "execution_count": 28
        },
        {
          "output_type": "display_data",
          "data": {
            "text/plain": [
              "<Figure size 640x480 with 1 Axes>"
            ],
            "image/png": "[encoded data removed]"
          },
          "metadata": {}
        }
      ]
    },
    {
      "cell_type": "markdown",
      "source": [
        "En este caso observamos que el menor el el alpha = 0.01 con 1500 iteraciones, considero que el alpha=0.0001 pudo tener mejores resultados si hubieramos aumentado el numero de iteraciones. En este caso me quedaria con alpha 0.01 y 1500 iteraciones."
      ],
      "metadata": {
        "id": "QnNkNTXqOoVR"
      }
    },
    {
      "cell_type": "markdown",
      "source": [
        "###Comparativa con sklearn"
      ],
      "metadata": {
        "id": "ovZip2hfPFxS"
      }
    },
    {
      "cell_type": "markdown",
      "source": [
        "Para hacer mas interesante la practica comparare el modelo de regresion hecho \"a mano\" con el modelo que nos ofrece sklearn, utilizaremos la metrica del error medio absoluto para comparar."
      ],
      "metadata": {
        "id": "4QysEif9POo5"
      }
    },
    {
      "cell_type": "code",
      "source": [
        "#Primero importamos las librerias necesarias\n",
        "from sklearn.model_selection import train_test_split\n",
        "from sklearn.linear_model import LinearRegression\n",
        "from sklearn.metrics import mean_squared_error, mean_absolute_error"
      ],
      "metadata": {
        "id": "9vVP36zzPIfb"
      },
      "execution_count": null,
      "outputs": []
    },
    {
      "cell_type": "markdown",
      "source": [
        "Ahora vamos a extraer los datos de data_imputed y los separaremos en un conjunto de entrenamiento y un conjunto de prueba, la proporción sera de 70/30."
      ],
      "metadata": {
        "id": "r3nUv-oqPxt9"
      }
    },
    {
      "cell_type": "code",
      "source": [
        "X_sklearn = data_imputed[['Usage_kWh','Lagging_Current_Reactive.Power_kVarh']]\n",
        "Y_sklearn = data_imputed['CO2(tCO2)']\n",
        "X_train, X_test, y_train, y_test = train_test_split(\n",
        "    X_sklearn, Y_sklearn, test_size=0.3, random_state=101)"
      ],
      "metadata": {
        "id": "IcAvt-3vPf0z"
      },
      "execution_count": null,
      "outputs": []
    },
    {
      "cell_type": "markdown",
      "source": [
        "Ahora instanciaremos al modelo y lo entrenaremos, esto con la funcion fit."
      ],
      "metadata": {
        "id": "zd6wnmlGQS6E"
      }
    },
    {
      "cell_type": "code",
      "source": [
        "model = LinearRegression()\n",
        "model.fit(X_train, y_train)"
      ],
      "metadata": {
        "colab": {
          "base_uri": "https://localhost:8080/",
          "height": 75
        },
        "id": "VgPKVNRaQXlG",
        "outputId": "369690cc-032c-4571-f97e-f369f277e827"
      },
      "execution_count": null,
      "outputs": [
        {
          "output_type": "execute_result",
          "data": {
            "text/plain": [
              "LinearRegression()"
            ],
            "text/html": [
              "<style>#sk-container-id-1 {color: black;background-color: white;}#sk-container-id-1 pre{padding: 0;}#sk-container-id-1 div.sk-toggleable {background-color: white;}#sk-container-id-1 label.sk-toggleable__label {cursor: pointer;display: block;width: 100%;margin-bottom: 0;padding: 0.3em;box-sizing: border-box;text-align: center;}#sk-container-id-1 label.sk-toggleable__label-arrow:before {content: \"▸\";float: left;margin-right: 0.25em;color: #696969;}#sk-container-id-1 label.sk-toggleable__label-arrow:hover:before {color: black;}#sk-container-id-1 div.sk-estimator:hover label.sk-toggleable__label-arrow:before {color: black;}#sk-container-id-1 div.sk-toggleable__content {max-height: 0;max-width: 0;overflow: hidden;text-align: left;background-color: #f0f8ff;}#sk-container-id-1 div.sk-toggleable__content pre {margin: 0.2em;color: black;border-radius: 0.25em;background-color: #f0f8ff;}#sk-container-id-1 input.sk-toggleable__control:checked~div.sk-toggleable__content {max-height: 200px;max-width: 100%;overflow: auto;}#sk-container-id-1 input.sk-toggleable__control:checked~label.sk-toggleable__label-arrow:before {content: \"▾\";}#sk-container-id-1 div.sk-estimator input.sk-toggleable__control:checked~label.sk-toggleable__label {background-color: #d4ebff;}#sk-container-id-1 div.sk-label input.sk-toggleable__control:checked~label.sk-toggleable__label {background-color: #d4ebff;}#sk-container-id-1 input.sk-hidden--visually {border: 0;clip: rect(1px 1px 1px 1px);clip: rect(1px, 1px, 1px, 1px);height: 1px;margin: -1px;overflow: hidden;padding: 0;position: absolute;width: 1px;}#sk-container-id-1 div.sk-estimator {font-family: monospace;background-color: #f0f8ff;border: 1px dotted black;border-radius: 0.25em;box-sizing: border-box;margin-bottom: 0.5em;}#sk-container-id-1 div.sk-estimator:hover {background-color: #d4ebff;}#sk-container-id-1 div.sk-parallel-item::after {content: \"\";width: 100%;border-bottom: 1px solid gray;flex-grow: 1;}#sk-container-id-1 div.sk-label:hover label.sk-toggleable__label {background-color: #d4ebff;}#sk-container-id-1 div.sk-serial::before {content: \"\";position: absolute;border-left: 1px solid gray;box-sizing: border-box;top: 0;bottom: 0;left: 50%;z-index: 0;}#sk-container-id-1 div.sk-serial {display: flex;flex-direction: column;align-items: center;background-color: white;padding-right: 0.2em;padding-left: 0.2em;position: relative;}#sk-container-id-1 div.sk-item {position: relative;z-index: 1;}#sk-container-id-1 div.sk-parallel {display: flex;align-items: stretch;justify-content: center;background-color: white;position: relative;}#sk-container-id-1 div.sk-item::before, #sk-container-id-1 div.sk-parallel-item::before {content: \"\";position: absolute;border-left: 1px solid gray;box-sizing: border-box;top: 0;bottom: 0;left: 50%;z-index: -1;}#sk-container-id-1 div.sk-parallel-item {display: flex;flex-direction: column;z-index: 1;position: relative;background-color: white;}#sk-container-id-1 div.sk-parallel-item:first-child::after {align-self: flex-end;width: 50%;}#sk-container-id-1 div.sk-parallel-item:last-child::after {align-self: flex-start;width: 50%;}#sk-container-id-1 div.sk-parallel-item:only-child::after {width: 0;}#sk-container-id-1 div.sk-dashed-wrapped {border: 1px dashed gray;margin: 0 0.4em 0.5em 0.4em;box-sizing: border-box;padding-bottom: 0.4em;background-color: white;}#sk-container-id-1 div.sk-label label {font-family: monospace;font-weight: bold;display: inline-block;line-height: 1.2em;}#sk-container-id-1 div.sk-label-container {text-align: center;}#sk-container-id-1 div.sk-container {/* jupyter's `normalize.less` sets `[hidden] { display: none; }` but bootstrap.min.css set `[hidden] { display: none !important; }` so we also need the `!important` here to be able to override the default hidden behavior on the sphinx rendered scikit-learn.org. See: https://github.com/scikit-learn/scikit-learn/issues/21755 */display: inline-block !important;position: relative;}#sk-container-id-1 div.sk-text-repr-fallback {display: none;}</style><div id=\"sk-container-id-1\" class=\"sk-top-container\"><div class=\"sk-text-repr-fallback\"><pre>LinearRegression()</pre><b>In a Jupyter environment, please rerun this cell to show the HTML representation or trust the notebook. <br />On GitHub, the HTML representation is unable to render, please try loading this page with nbviewer.org.</b></div><div class=\"sk-container\" hidden><div class=\"sk-item\"><div class=\"sk-estimator sk-toggleable\"><input class=\"sk-toggleable__control sk-hidden--visually\" id=\"sk-estimator-id-1\" type=\"checkbox\" checked><label for=\"sk-estimator-id-1\" class=\"sk-toggleable__label sk-toggleable__label-arrow\">LinearRegression</label><div class=\"sk-toggleable__content\"><pre>LinearRegression()</pre></div></div></div></div></div>"
            ]
          },
          "metadata": {},
          "execution_count": 31
        }
      ]
    },
    {
      "cell_type": "markdown",
      "source": [
        "Ahora realizaremos las predicciones del conjunto de prueba y revisaremos el error medio absoluto"
      ],
      "metadata": {
        "id": "9kY_3mj7Q1_U"
      }
    },
    {
      "cell_type": "code",
      "source": [
        "predictions = model.predict(X_test)\n",
        "print('mean_absolute_error : ', mean_absolute_error(y_test, predictions))"
      ],
      "metadata": {
        "colab": {
          "base_uri": "https://localhost:8080/"
        },
        "id": "aaEZwvGGQ1Gw",
        "outputId": "9aa5483c-c884-4c77-f6d5-73c7db9e353c"
      },
      "execution_count": null,
      "outputs": [
        {
          "output_type": "stream",
          "name": "stdout",
          "text": [
            "mean_absolute_error :  0.0019374293018332136\n"
          ]
        }
      ]
    },
    {
      "cell_type": "markdown",
      "source": [
        "Graficaremos ambos errores y observaremos cual es menor."
      ],
      "metadata": {
        "id": "Nzz0UiFzRI0A"
      }
    },
    {
      "cell_type": "code",
      "source": [
        "labels_s = [\"alpha = 0.01\", \"alpha = 0.3\",\"alpha = 0.0001\",\"alpha = 0.7\",\"sklearn\"]\n",
        "values_s = [mean_abs_error1,mean_abs_error2,mean_abs_error3,mean_abs_error4,mean_absolute_error(y_test, predictions)]\n",
        "\n",
        "#Usamos una grafica de barras para observar la diferencia de manera visual\n",
        "fig, ax = plt.subplots()\n",
        "ax.bar(x = labels_s, height = values_s)"
      ],
      "metadata": {
        "colab": {
          "base_uri": "https://localhost:8080/",
          "height": 450
        },
        "id": "2p5JrfNWRk8U",
        "outputId": "3c3bf11d-a482-45df-df6e-7cc1d143d5ef"
      },
      "execution_count": null,
      "outputs": [
        {
          "output_type": "execute_result",
          "data": {
            "text/plain": [
              "<BarContainer object of 5 artists>"
            ]
          },
          "metadata": {},
          "execution_count": 33
        },
        {
          "output_type": "display_data",
          "data": {
            "text/plain": [
              "<Figure size 640x480 with 1 Axes>"
            ],
            "image/png": "[encoded data removed]"
          },
          "metadata": {}
        }
      ]
    },
    {
      "cell_type": "markdown",
      "source": [
        "Observamos que el error cuadratico medio es practicamente los mismo que con nuestro modelo."
      ],
      "metadata": {
        "id": "hCbprz_fRw4Q"
      }
    },
    {
      "cell_type": "markdown",
      "source": [
        "##Predicciones"
      ],
      "metadata": {
        "id": "AIVMStWGR4gt"
      }
    },
    {
      "cell_type": "markdown",
      "source": [
        "Realizaremos algunas predicciones y observaremos los valores.\n"
      ],
      "metadata": {
        "id": "aAo7sf-CSII7"
      }
    },
    {
      "cell_type": "code",
      "source": [
        "#Empezaremos con nuestro mejor modelo, valores Usage_kWh = 79.52 Lagging_Current_Reactive.Power_kVarh = 19.48\n",
        "c02 = np.dot([1.0,(79.52\t - mu[0])/sigma[0], (19.48 - mu[1]) / sigma[1]], theta1)\n",
        "print(\"El valor de C02(tCO2) seria aproximadamente: \",c02[0])"
      ],
      "metadata": {
        "colab": {
          "base_uri": "https://localhost:8080/"
        },
        "id": "rvghDi2dSHLw",
        "outputId": "1029dd0f-9a68-42f8-892f-642c16dbed54"
      },
      "execution_count": null,
      "outputs": [
        {
          "output_type": "stream",
          "name": "stdout",
          "text": [
            "El valor de C02(tCO2) seria aproximadamente:  0.033823727154593045\n"
          ]
        }
      ]
    },
    {
      "cell_type": "code",
      "source": [
        "#Ahora lo haremos con sklearn\n",
        "c02_s = model.predict([[79.52,19.48]])\n",
        "print(\"El valor de C02(tCO2) seria aproximadamente: \",c02_s[0])"
      ],
      "metadata": {
        "colab": {
          "base_uri": "https://localhost:8080/"
        },
        "id": "bxrfnpUYTsUV",
        "outputId": "6a13e8f6-dfef-42b0-e8e1-2ba206ede3fa"
      },
      "execution_count": null,
      "outputs": [
        {
          "output_type": "stream",
          "name": "stdout",
          "text": [
            "El valor de C02(tCO2) seria aproximadamente:  0.035057913913695\n"
          ]
        },
        {
          "output_type": "stream",
          "name": "stderr",
          "text": [
            "/usr/local/lib/python3.10/dist-packages/sklearn/base.py:439: UserWarning: X does not have valid feature names, but LinearRegression was fitted with feature names\n",
            "  warnings.warn(\n"
          ]
        }
      ]
    },
    {
      "cell_type": "markdown",
      "source": [
        "Observamos predicciones similares."
      ],
      "metadata": {
        "id": "HjgEuhTwUSp2"
      }
    }
  ]
}